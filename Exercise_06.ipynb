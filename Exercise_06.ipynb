{
 "cells": [
  {
   "cell_type": "markdown",
   "metadata": {},
   "source": [
    "# Probabilistic Machine Learning\n",
    "#### Machine Learning in Science, University of Tübingen, Summer Semester 2022\n",
    "## Exercise 06\n",
    "\n",
    "## Julian Zimmerlin 6009977\n",
    "## Leander Zimmermann 4165446\n",
    "\n",
    "**hand in before 03.06.2022, 12:00 p.m. (noon)**\n",
    "\n",
    "---\n",
    "\n",
    "In the lecture you learned about Gaussian process regression, and how it is basically the infinite-dimension limit of classification using generalized linear models. In this programming exercise, you will explore GP classification, using publicly available implementations as well as implementing your own classifier.\n",
    "\n",
    "\n",
    "## Outline\n",
    "1) Play around with a toy dataset and the scikit-learn black box GPs to get an intuition on how different kernels behave and ask high-level questions about Gaussian Processes, Kernels, etc. (easy part).\n",
    "\n",
    "2) Implement a binary GP classification class yourself and apply it to the toy dataset and FashionMNIST dataset (harder part)."
   ]
  },
  {
   "cell_type": "markdown",
   "metadata": {},
   "source": [
    "# 1) Binary Gaussian process classification using scikit-learn and a toy dataset\n",
    "Recommended reference: https://scikit-learn.org/stable/modules/gaussian_process.html\n",
    "\n",
    "Exercise adapted from https://scikit-learn.org/stable/auto_examples/gaussian_process/plot_gpc.html#sphx-glr-download-auto-examples-gaussian-process-plot-gpc-py \n",
    "- License disclaimer\n",
    "```python\n",
    "# Authors: Jan Hendrik Metzen <jhm@informatik.uni-bremen.de>\n",
    "#\n",
    "# License: BSD 3 clause\n",
    "```"
   ]
  },
  {
   "cell_type": "code",
   "execution_count": 1,
   "metadata": {},
   "outputs": [],
   "source": [
    "import numpy as np\n",
    "\n",
    "from matplotlib import pyplot as plt\n",
    "\n",
    "from sklearn.metrics import accuracy_score, log_loss\n",
    "from sklearn.gaussian_process import GaussianProcessClassifier\n",
    "from sklearn.gaussian_process.kernels import RBF, Matern, DotProduct, RationalQuadratic, ExpSineSquared\n",
    "\n",
    "np.random.seed(42)"
   ]
  },
  {
   "cell_type": "markdown",
   "metadata": {},
   "source": [
    "## Create a toy dataset $p(y, X)$ \n",
    "of $N$ samples\n",
    "$$X \\sim U(0, 5)\\\\ \n",
    "    y(X)=\\begin{cases}\n",
    "      0, & \\text{if}\\ X\\leq2.5 \\\\\n",
    "      1, & \\text{otherwise}\n",
    "    \\end{cases}$$\n",
    "and split it into training and test splits. (Note: decide on your own how large $N$ and the split ratio is)."
   ]
  },
  {
   "cell_type": "code",
   "execution_count": 2,
   "metadata": {},
   "outputs": [
    {
     "data": {
      "text/plain": [
       "((500, 1), (500,))"
      ]
     },
     "execution_count": 2,
     "metadata": {},
     "output_type": "execute_result"
    }
   ],
   "source": [
    "# to create a toy dataset\n",
    "n = 500\n",
    "train_size = int(n * .8)\n",
    "\n",
    "X = np.random.uniform(0,5, size=(n,1))\n",
    "y = np.zeros(n)\n",
    "y[X[:,0] > 2.5] = 1\n",
    "X.shape, y.shape"
   ]
  },
  {
   "cell_type": "code",
   "execution_count": 3,
   "metadata": {},
   "outputs": [],
   "source": [
    "# to create a training and testing split\n",
    "X_train = X[:train_size]\n",
    "y_train = y[:train_size]\n",
    "X_test = X[train_size:]\n",
    "y_test = y[train_size:]"
   ]
  },
  {
   "cell_type": "code",
   "execution_count": 4,
   "metadata": {},
   "outputs": [
    {
     "name": "stdout",
     "output_type": "stream",
     "text": [
      "X_train shape:  (400, 1)\n",
      "y_train shape:  (400,)\n",
      "X_test shape:  (100, 1)\n",
      "y_test shape:  (100,)\n"
     ]
    }
   ],
   "source": [
    "# to verify the split\n",
    "print(\"X_train shape: \", X_train.shape)\n",
    "print(\"y_train shape: \", y_train.shape)\n",
    "print(\"X_test shape: \", X_test.shape)\n",
    "print(\"y_test shape: \", y_test.shape)"
   ]
  },
  {
   "cell_type": "markdown",
   "metadata": {},
   "source": [
    "## Specify kernels for the Gaussian process classification\n",
    "- RBF\n",
    "- Matern\n",
    "- RationalQuadratic\n",
    "- ExpSineSquared\n",
    "- DotProduct\n",
    "\n",
    "Tipp: check out the documentation in scikit-learn, e.g. for RBF\n",
    "https://scikit-learn.org/stable/modules/generated/sklearn.gaussian_process.kernels.RBF.html"
   ]
  },
  {
   "cell_type": "code",
   "execution_count": 5,
   "metadata": {},
   "outputs": [],
   "source": [
    "# specify the kernels\n",
    "RBF_kernel = 1.0 * RBF(1.0)\n",
    "Matern_kernel = 1.0 * Matern(length_scale=1.0, nu=1.5)\n",
    "RationalQuadratic_kernel = 1 * RationalQuadratic(length_scale=1.0, alpha=1.5)\n",
    "ExpSineSquared_kernel = 1 * ExpSineSquared(length_scale=1, periodicity=1)\n",
    "DotProduct_kernel = DotProduct()"
   ]
  },
  {
   "cell_type": "markdown",
   "metadata": {},
   "source": [
    "## Instantiate Gaussian process classifier (GPC) objects\n",
    "\n",
    "Choose a kernel and create the Gaussian process classifier instances.\n",
    "To compare the initial kernel vs. the optimized kernel, create two instances: (1) `gp_fix` with `optimizer=None` and (2) `gp_opt` without specifying `optimizer`, leaving it at its default value (maximum log-marginal likelihood estimation). Call the `.fit(X, y)` method on both to fit the training data. "
   ]
  },
  {
   "cell_type": "code",
   "execution_count": 6,
   "metadata": {},
   "outputs": [
    {
     "name": "stderr",
     "output_type": "stream",
     "text": [
      "D:\\Uni Master\\Semester 2\\Statistical ML\\Assignments\\sml_env\\lib\\site-packages\\sklearn\\gaussian_process\\_gpc.py:472: ConvergenceWarning: lbfgs failed to converge (status=2):\n",
      "ABNORMAL_TERMINATION_IN_LNSRCH.\n",
      "\n",
      "Increase the number of iterations (max_iter) or scale the data as shown in:\n",
      "    https://scikit-learn.org/stable/modules/preprocessing.html\n",
      "  _check_optimize_result(\"lbfgs\", opt_res)\n",
      "D:\\Uni Master\\Semester 2\\Statistical ML\\Assignments\\sml_env\\lib\\site-packages\\sklearn\\gaussian_process\\kernels.py:430: ConvergenceWarning: The optimal value found for dimension 0 of parameter k1__constant_value is close to the specified upper bound 100000.0. Increasing the bound and calling fit again may find a better value.\n",
      "  warnings.warn(\n"
     ]
    },
    {
     "data": {
      "text/plain": [
       "GaussianProcessClassifier(kernel=1**2 * RBF(length_scale=1))"
      ]
     },
     "execution_count": 6,
     "metadata": {},
     "output_type": "execute_result"
    }
   ],
   "source": [
    "# Specify Gaussian Processes with fixed and optimized hyperparameters\n",
    "gp_fix = GaussianProcessClassifier(optimizer=None, kernel=RBF_kernel)\n",
    "gp_fix.fit(X_train,y_train)\n",
    "\n",
    "gp_opt = GaussianProcessClassifier(kernel=RBF_kernel)\n",
    "gp_opt.fit(X_train,y_train)"
   ]
  },
  {
   "cell_type": "code",
   "execution_count": 7,
   "metadata": {},
   "outputs": [
    {
     "data": {
      "text/plain": [
       "(1**2 * RBF(length_scale=1), 316**2 * RBF(length_scale=1.51))"
      ]
     },
     "execution_count": 7,
     "metadata": {},
     "output_type": "execute_result"
    }
   ],
   "source": [
    "# to verify the kernels differ\n",
    "gp_fix.kernel_, gp_opt.kernel_"
   ]
  },
  {
   "cell_type": "markdown",
   "metadata": {},
   "source": [
    "## Print the log marginal likelihood $\\text{log} p(\\theta)$ for the kernel parameter to compare the initial and the optimized kernel parameter log probabilities"
   ]
  },
  {
   "cell_type": "code",
   "execution_count": 8,
   "metadata": {},
   "outputs": [
    {
     "name": "stdout",
     "output_type": "stream",
     "text": [
      "Log Marginal Likelihood (initial): -53.115\n",
      "Log Marginal Likelihood (optimized): -6.603\n"
     ]
    }
   ],
   "source": [
    "print(\"Log Marginal Likelihood (initial): %.3f\"\n",
    "      % gp_fix.log_marginal_likelihood(gp_fix.kernel_.theta))\n",
    "print(\"Log Marginal Likelihood (optimized): %.3f\"\n",
    "      % gp_opt.log_marginal_likelihood(gp_opt.kernel_.theta))"
   ]
  },
  {
   "cell_type": "markdown",
   "metadata": {},
   "source": [
    "## Print the accuracy (using `accuracy_score`) between prediction and ground truth class to compare the initialized and the optimized GPC classification performance"
   ]
  },
  {
   "cell_type": "code",
   "execution_count": 9,
   "metadata": {},
   "outputs": [
    {
     "name": "stdout",
     "output_type": "stream",
     "text": [
      "Accuracy: 0.980 (initial) 1.000 (optimized)\n"
     ]
    }
   ],
   "source": [
    "print(\"Accuracy: %.3f (initial) %.3f (optimized)\"\n",
    "      % (accuracy_score(y_test, gp_fix.predict(X_test)),\n",
    "         accuracy_score(y_test, gp_opt.predict(X_test))))"
   ]
  },
  {
   "cell_type": "markdown",
   "metadata": {},
   "source": [
    "## Print the log loss (using `log_loss`) between prediction and ground truth class to compare how the maximum log-marginal likelihood estimates compare to the arbitrary kernel parameters "
   ]
  },
  {
   "cell_type": "code",
   "execution_count": 10,
   "metadata": {},
   "outputs": [
    {
     "name": "stdout",
     "output_type": "stream",
     "text": [
      "Log-loss: 0.086 (initial) 0.198 (optimized)\n"
     ]
    }
   ],
   "source": [
    "print(\"Log-loss: %.3f (initial) %.3f (optimized)\"\n",
    "      % (log_loss(y_test, gp_fix.predict_proba(X_test)),\n",
    "         log_loss(y_test, gp_opt.predict_proba(X_test))))"
   ]
  },
  {
   "cell_type": "code",
   "execution_count": 11,
   "metadata": {},
   "outputs": [
    {
     "data": {
      "image/png": "[encoded data removed]",
      "text/plain": [
       "<Figure size 1500x800 with 1 Axes>"
      ]
     },
     "metadata": {},
     "output_type": "display_data"
    }
   ],
   "source": [
    "# Plot posteriors\n",
    "plt.figure(figsize=(15,8))\n",
    "plt.scatter(X_train[:, 0], y_train, c='purple', label=\"Train data\",\n",
    "            edgecolors=(0, 0, 0))\n",
    "plt.scatter(X_test[:, 0], y_test, c='orange', label=\"Test data\",\n",
    "            edgecolors=(0, 0, 0))\n",
    "X_ = np.linspace(0, 5, 100)\n",
    "plt.plot(X_, gp_fix.predict_proba(X_[:, np.newaxis])[:, 1], 'r',\n",
    "         label=\"Initial kernel: %s\" % gp_fix.kernel_)\n",
    "plt.plot(X_, gp_opt.predict_proba(X_[:, np.newaxis])[:, 1], 'b',\n",
    "         label=\"Optimized kernel: %s\" % gp_opt.kernel_)\n",
    "plt.xlabel(\"Feature\")\n",
    "plt.ylabel(\"Class 1 probability\")\n",
    "plt.xlim(0, 5)\n",
    "plt.ylim(-0.25, 1.5)\n",
    "plt.legend(loc=\"best\")\n",
    "plt.show()"
   ]
  },
  {
   "cell_type": "code",
   "execution_count": 12,
   "metadata": {},
   "outputs": [
    {
     "data": {
      "image/png": "[encoded data removed]",
      "text/plain": [
       "<Figure size 1500x1000 with 2 Axes>"
      ]
     },
     "metadata": {},
     "output_type": "display_data"
    }
   ],
   "source": [
    "# Plot LML landscape\n",
    "plt.figure(figsize=(15,10))\n",
    "theta0 = np.logspace(0, 8, 30)\n",
    "theta1 = np.logspace(-1, 1, 29)\n",
    "Theta0, Theta1 = np.meshgrid(theta0, theta1)\n",
    "LML = [[gp_opt.log_marginal_likelihood(np.log([Theta0[i, j], Theta1[i, j]]))\n",
    "        for i in range(Theta0.shape[0])] for j in range(Theta0.shape[1])]\n",
    "LML = np.array(LML).T\n",
    "plt.plot(np.exp(gp_fix.kernel_.theta)[0], np.exp(gp_fix.kernel_.theta)[1],\n",
    "         'ko', zorder=10)\n",
    "plt.plot(np.exp(gp_opt.kernel_.theta)[0], np.exp(gp_opt.kernel_.theta)[1],\n",
    "         'ko', zorder=10)\n",
    "plt.pcolor(Theta0, Theta1, LML)\n",
    "plt.xscale(\"log\")\n",
    "plt.yscale(\"log\")\n",
    "plt.colorbar()\n",
    "plt.xlabel(\"Magnitude\")\n",
    "plt.ylabel(\"Length-scale\")\n",
    "plt.title(\"Log-marginal-likelihood\")\n",
    "\n",
    "plt.show()"
   ]
  },
  {
   "cell_type": "markdown",
   "metadata": {},
   "source": [
    "## Questions:\n",
    "1. What do the blue and the red line in the posterior plot represent?\n",
    "2. What does the log-marginal-likelihood describe and what is it used for?\n",
    "3. Using an initial RBF kernel `1**2 * RBF(length_scale=1)`, can you use the plot of the class 1 probability to reason about why the log loss with the initial RBF kernel is lower than with the optimized RBF kernel?\n",
    "4. Check out all 5 different kernels. Which one is the best fit? Is any Kernel strictly better than another?\n",
    "5. Implement a different function and test it with all 5 Kernels. Is every Kernel able to fit the problem? The function can be simple, e.g. 1 if x < 1 or x > 4, 0 else.\n",
    "\n",
    "Note: text of single sentences to answer the questions that don't require code at this point are sufficient."
   ]
  },
  {
   "cell_type": "markdown",
   "metadata": {},
   "source": [
    "## Answers:\n",
    "1. Both show the output probability (for class 1) of the corresponding estimator, over the given sample X.  The blue line is using the optimized Kernel, which results in a much sharper deision boundary\n",
    "2. It is used to judge how well we fit the data with a given kernel and parameters. The higher the marginal likelihood, the better the fit of the data.\n",
    "3. While in the middle, the optimized kernel outputs probabilities closer ot 0 and 1, towards X=0 and X=5, it is the other way around, s.t. the optimized kernel produces probabilities close to .5 overall, resulting in a higher loss inspite of the perfect acuracy.\n",
    "4. Most Kernels produce a really good accuracy. In terms of log loss the optimized DotProduct Kernel, followed by the unoptimized MaternKernel perform the best. The unoptimized ExpSineSquared Kernel is not usable for this problem"
   ]
  },
  {
   "cell_type": "markdown",
   "metadata": {},
   "source": [
    "# 2) Implementing a binary Gaussian process classification object\n",
    "\n",
    "Instructions:\n",
    "- complete the methods `fit`, `predict_all` of the class `GPClassifier`. This is supposed to give some structure to the programming to focus on the hard parts. Feel free to implement your own way from scratch. We suggest you document *why* you implement it the way you do.\n",
    "\n",
    "```python\n",
    "from scipy.stats import norm\n",
    "from scipy.integrate import quad\n",
    "from scipy.special import expit as sigmoid\n",
    "from scipy.spatial.distance import cdist\n",
    "\n",
    "# based on the implementation given in the book by Rasmussen and Williams\n",
    "class GPClassifier:\n",
    "    \n",
    "    def __init__(self, X, y, kernel):\n",
    "        self.X = X\n",
    "        self.y = y\n",
    "        self.kernel = kernel\n",
    "        self.K = self.kernel(self.X, self.X)\n",
    "        assert len(self.X) == len(self.y)\n",
    "        self.size = len(self.X)\n",
    "        \n",
    "        self.f = None\n",
    "        self.W = None\n",
    "        self.L = None \n",
    "            \n",
    "    def fit(self):\n",
    "        \"\"\"Single class, mode-finding algorithm for binary GPC.\n",
    "        \n",
    "        Returns:\n",
    "             float: Log-marginal likelihood after convergence, \n",
    "                 here |obj - obj_old| < 1e-5.\n",
    "                 \n",
    "        Note:\n",
    "            Requires:\n",
    "                self.K        \n",
    "            Updates:\n",
    "                self.W\n",
    "                self.L\n",
    "                self.f\n",
    "        \n",
    "        Reference: Algorithm 3.1, Rasmussen and Williams\n",
    "        \"\"\"\n",
    "        ...\n",
    "                \n",
    "    \n",
    "    def predict_all(self, X_pred):\n",
    "        \"\"\"Predictions for binary GPC.\n",
    "        \n",
    "        Returns:\n",
    "            array: predictive class probability for class 1.\n",
    "            array: class labels y_pred.\n",
    "            \n",
    "        Note:\n",
    "            Requires:\n",
    "                self.X\n",
    "                self.y\n",
    "                self.L\n",
    "                self.W\n",
    "                self.kernel\n",
    "                self.f          \n",
    "        \n",
    "        Reference: Algorithm 3.2, Rasmussen and Williams\n",
    "        \"\"\"\n",
    "        ...\n",
    "```\n",
    "\n",
    "- only consider binary classification\n",
    "- use the cholesky decomposition to solve the linear system because that is numerically stable\n",
    "- use the kernel parameters suggested in the toy example instead of implementing an optimizer\n",
    "\n",
    "- Hints: \n",
    "    1. Use the knowledge from the lecture on GPs and Gaussian_Process_Regression_2022.ipynb. You can base your implementation on the classification algorithm (3.1) from Rasmussen and Williams in http://www.gaussianprocess.org/gpml/chapters/RW3.pdf.\n",
    "    2. Implement the likelihood according to using [0,1] labels.\n",
    "    3. You can compute a definite integral using `scipy.integrate.quad`."
   ]
  },
  {
   "cell_type": "code",
   "execution_count": 13,
   "metadata": {},
   "outputs": [],
   "source": [
    "# implement your GPClassifier here\n",
    "from scipy.stats import norm\n",
    "from scipy.integrate import quad\n",
    "from scipy.special import expit as sigmoid\n",
    "from scipy.spatial.distance import cdist\n",
    "from numpy.linalg import cholesky, solve\n",
    "\n",
    "\n",
    "# based on the implementation given in the book by Rasmussen and Williams\n",
    "class GPClassifier:\n",
    "    \n",
    "    def __init__(self, X, y, kernel):\n",
    "        self.X = X\n",
    "        self.y = y\n",
    "        self.kernel = kernel\n",
    "        self.K = self.kernel(self.X, self.X)\n",
    "        assert len(self.X) == len(self.y)\n",
    "        self.size = len(self.X)\n",
    "        \n",
    "        self.f = None\n",
    "        self.W = None\n",
    "        self.L = None\n",
    "                \n",
    "    def fit(self):\n",
    "        \"\"\"Single class, mode-finding algorithm for binary GPC.\n",
    "        \n",
    "        Returns:\n",
    "             float: Log-marginal likelihood after convergence, \n",
    "                 here |obj - obj_old| < 1e-5.\n",
    "                 \n",
    "        Note:\n",
    "            Requires:\n",
    "                self.K        \n",
    "            Updates:\n",
    "                self.W\n",
    "                self.L\n",
    "                self.f\n",
    "        \n",
    "        Reference: Algorithm 3.1, Rasmussen and Williams\n",
    "        \"\"\"\n",
    "        f = np.zeros(self.size)\n",
    "        log_marginal_likelihood = -np.inf\n",
    "        while True: \n",
    "            # Line 4\n",
    "            pi = sigmoid(f)\n",
    "            W = np.zeros_like(self.K)\n",
    "            \n",
    "            np.fill_diagonal(W, (pi * (1-pi)))\n",
    "            W_sqrt = np.sqrt(W)\n",
    "            \n",
    "            # Line 5\n",
    "            B = np.identity(W.shape[0]) + W_sqrt @ self.K @ W_sqrt\n",
    "\n",
    "            L = np.linalg.cholesky(B)\n",
    "            \n",
    "            # Line 6\n",
    "            b = W @ f + (self.y - pi)\n",
    "\n",
    "            # Line 7\n",
    "            a = b - W_sqrt @ solve(L.T, solve(L, W_sqrt @ self.K @ b))\n",
    "            \n",
    "            # Line 8\n",
    "            f = self.K @ a\n",
    "            \n",
    "            # Line 10:\n",
    "            lml = (-0.5 * a.T @ f) - np.log(1 + np.exp(-((self.y*2)-1) * f)).sum() - np.log(L.diagonal()).sum()\n",
    "            \n",
    "            # Convergence check using log marginal LL\n",
    "            if np.abs(lml - log_marginal_likelihood) < 1e-5:\n",
    "                break\n",
    "            log_marginal_likelihood = lml\n",
    "            \n",
    "        self.f = f\n",
    "        self.W = W \n",
    "        self.L = L\n",
    "        return log_marginal_likelihood\n",
    "    \n",
    "    def predict_all(self, X_pred):\n",
    "        \"\"\"Predictions for binary GPC.\n",
    "        \n",
    "        Returns:\n",
    "            array: predictive class probability for class 1.\n",
    "            array: class labels y_pred.\n",
    "            \n",
    "        Note:\n",
    "            Requires:\n",
    "                self.X\n",
    "                self.y\n",
    "                self.L\n",
    "                self.W\n",
    "                self.kernel\n",
    "                self.f          \n",
    "        \n",
    "        Reference: Algorithm 3.2, Rasmussen and Williams\n",
    "        \"\"\"\n",
    "        f_star = self.kernel(self.X, X_pred).T @ (self.y - sigmoid(self.f))\n",
    "        v = solve(self.L, np.sqrt(self.W) @ self.kernel(self.X, X_pred))\n",
    "        V_fstar = self.kernel(X_pred,X_pred) - v.T @ v\n",
    "        \n",
    "        pi_s = []\n",
    "        for i in range(len(f_star)):\n",
    "            mean = f_star[i]\n",
    "            var = V_fstar.diagonal()[i]\n",
    "            pi_s.append(quad(lambda z: sigmoid(z)*norm.pdf(z, loc=mean, scale=var), -np.inf, np.inf)[0])\n",
    "        scores = np.array(pi_s)\n",
    "        preds = (np.array(pi_s) >= 0.5).astype(int)\n",
    "    \n",
    "        return (scores, preds)"
   ]
  },
  {
   "cell_type": "markdown",
   "metadata": {},
   "source": [
    "## Use your own GPC implementation to classify the toy data from exercise 1)\n",
    "Instructions:\n",
    "- implement the rbf kernel (and e.g. linear) to be used with `GPClassifier`.\n",
    "    E.g.:\n",
    "    ``` python\n",
    "    # kernels:\n",
    "    def rbf(x1,x2, sigma, ell):\n",
    "        ...\n",
    "    def linear(x_1, x_2, sigma):\n",
    "        ...\n",
    "        \n",
    "    # set the kernel parameters from the toy example\n",
    "    rbf_kernel = lambda x1, x2: rbf(x1, x2, 91.7, 1.12)\n",
    "    linear_kernel = lambda x1, x2: linear(x1, x2, ?)\n",
    "    ```\n",
    "- compare your results to the scikit-learn off-the-shelf GP. Hint: they should be similar ;)"
   ]
  },
  {
   "cell_type": "code",
   "execution_count": 23,
   "metadata": {},
   "outputs": [
    {
     "name": "stdout",
     "output_type": "stream",
     "text": [
      "X_train shape:  (50, 1)\n",
      "y_train shape:  (50,)\n",
      "X_test shape:  (50, 1)\n",
      "y_test shape:  (50,)\n"
     ]
    }
   ],
   "source": [
    "# to create a toy dataset\n",
    "n = 100\n",
    "train_size = 50\n",
    "X = np.random.uniform(0, 5, n)\n",
    "y = (X > 2.5).astype(int)  # using bool to int casting\n",
    "# to create a training and testing split\n",
    "X_train = X[0:train_size].reshape(-1,1)\n",
    "y_train = y[0:train_size]\n",
    "X_test = X[train_size:n].reshape(-1,1)\n",
    "y_test = y[train_size:n]\n",
    "# to verify the split\n",
    "print(\"X_train shape: \", X_train.shape)\n",
    "print(\"y_train shape: \", y_train.shape)\n",
    "print(\"X_test shape: \", X_test.shape)\n",
    "print(\"y_test shape: \", y_test.shape)\n"
   ]
  },
  {
   "cell_type": "code",
   "execution_count": 24,
   "metadata": {},
   "outputs": [
    {
     "name": "stdout",
     "output_type": "stream",
     "text": [
      "[0.49873065 0.54665843 0.51844217 0.50419031 0.47719749 0.49830892\n",
      " 0.49491923 0.48997389 0.50953531 0.52332013 0.49062503 0.50073987\n",
      " 0.51454136 0.49639817 0.49858825 0.49798822 0.49616548 0.49787789\n",
      " 0.49746793 0.49486725 0.49768606 0.50145768 0.49879076 0.57085819\n",
      " 0.48309272 0.50076519 0.49848238 0.48549401 0.50084843 0.50181292\n",
      " 0.50252702 0.49581722 0.49772495 0.5077418  0.50115197 0.52975084\n",
      " 0.52301465 0.49506517 0.50352058 0.49745966 0.49298753 0.47924234\n",
      " 0.65800843 0.49626213 0.49845235 0.51375071 0.49472456 0.51993153\n",
      " 0.49796746 0.42429269]\n",
      "RBF KERNEL -- Accuracy: 1.000 (OURS) 1.000 (SKLEARN)\n"
     ]
    }
   ],
   "source": [
    "# implement your kernels here and classify the toy data\n",
    "# kernels:\n",
    "def rbf(x1,x2, sigma, ell):\n",
    "    # here we use the identity ||x-y||^2 = ||x||^2 + ||y||^2 - 2 * x^T * y\n",
    "    x1_norm = np.sum(x1**2, axis=-1)\n",
    "    x2_norm = np.sum(x2**2, axis=-1)\n",
    "    K = sigma**2 * np.exp(-1/(2*ell**2) * (x1_norm[:,None] + x2_norm[None,:] - 2 * np.dot(x1, x2.T)))\n",
    "    return K\n",
    "                     \n",
    "def linear(x_1, x_2, sigma):\n",
    "    return sigma**2 * x_1 @ x_2.T\n",
    "\n",
    "\n",
    "## RBF\n",
    "\n",
    "# OUR CODE\n",
    "rbf_kernel = lambda x1, x2: rbf(x1, x2, 91.7, 1.12)\n",
    "gpc = GPClassifier(X_train, y_train, rbf_kernel)\n",
    "gpc.fit()\n",
    "scores, preds = gpc.predict_all(X_test)\n",
    "print(scores)\n",
    "\n",
    "# STANDARD SKLEARN\n",
    "gp_opt = GaussianProcessClassifier(kernel=RBF_kernel)\n",
    "gp_opt.fit(X_train,y_train)\n",
    "\n",
    "print(\"RBF KERNEL -- Accuracy: %.3f (OURS) %.3f (SKLEARN)\"\n",
    "      % (accuracy_score(y_test, preds),\n",
    "         accuracy_score(y_test, gp_opt.predict(X_test))))\n",
    "\n"
   ]
  },
  {
   "cell_type": "code",
   "execution_count": 25,
   "metadata": {},
   "outputs": [
    {
     "name": "stdout",
     "output_type": "stream",
     "text": [
      "LINEAR KERNEL -- Accuracy: 0.940 (OURS) 0.980 (SKLEARN)\n"
     ]
    }
   ],
   "source": [
    "## LINEAR:\n",
    "\n",
    "# OUR CODE\n",
    "linear_kernel = lambda x1, x2: linear(x1, x2, 0.006)\n",
    "gpc = GPClassifier(X_train, y_train, linear_kernel)\n",
    "gpc.fit()\n",
    "scores, preds = gpc.predict_all(X_test)\n",
    "\n",
    "# STANDARD SKLEARN\n",
    "gp_opt = GaussianProcessClassifier(kernel=DotProduct_kernel)\n",
    "gp_opt.fit(X_train,y_train)\n",
    "\n",
    "print(\"LINEAR KERNEL -- Accuracy: %.3f (OURS) %.3f (SKLEARN)\"\n",
    "      % (accuracy_score(y_test, preds),\n",
    "         accuracy_score(y_test, gp_opt.predict(X_test))))"
   ]
  },
  {
   "cell_type": "markdown",
   "metadata": {},
   "source": [
    "We can see that we get similar accuracies to the Sklearn implentation with both RBF (1.0/1.0) and linear kernels (0.94 / 0.98)."
   ]
  },
  {
   "cell_type": "markdown",
   "metadata": {},
   "source": [
    "## Use your own GPC implementation to separate images of Tshirts from images of Trousers using Fashion MNIST\n",
    "Instructions:\n",
    "- we use class 0 for t-shirts/tops and class 1 for trousers as the two classes for the binary classification.\n",
    "- the nasty data wrangling stuff has already been done for you by Pytorch and us.\n",
    "- decide on a considerate number of samples to train the GPC.\n",
    "- how accurate can you separate images of Tshirts from images of Trousers using your own `GPClassifier`?"
   ]
  },
  {
   "cell_type": "code",
   "execution_count": 17,
   "metadata": {},
   "outputs": [
    {
     "data": {
      "text/plain": [
       "<torch._C.Generator at 0x20f0ac9af70>"
      ]
     },
     "execution_count": 17,
     "metadata": {},
     "output_type": "execute_result"
    }
   ],
   "source": [
    "import torch, torchvision\n",
    "import torchvision.transforms as transforms\n",
    "torch.manual_seed(42)"
   ]
  },
  {
   "cell_type": "code",
   "execution_count": 18,
   "metadata": {},
   "outputs": [
    {
     "name": "stdout",
     "output_type": "stream",
     "text": [
      "12000\n",
      "tensor([0, 0, 0, 0, 1, 0, 1, 0, 0, 1])\n",
      "2000\n",
      "tensor([1, 1, 1, 1, 0, 1, 0, 0, 1, 1])\n"
     ]
    },
    {
     "name": "stderr",
     "output_type": "stream",
     "text": [
      "<ipython-input-18-051cf280937c>:26: UserWarning: indexing with dtype torch.uint8 is now deprecated, please use a dtype torch.bool instead. (Triggered internally at  C:\\Users\\builder\\tkoch\\workspace\\pytorch\\pytorch_1647970138273\\work\\aten\\src\\ATen/native/IndexingUtils.h:30.)\n",
      "  dataset.targets= dataset.targets[idx]\n",
      "<ipython-input-18-051cf280937c>:27: DeprecationWarning: `np.bool` is a deprecated alias for the builtin `bool`. To silence this warning, use `bool` by itself. Doing this will not modify any behavior and is safe. If you specifically wanted the numpy scalar type, use `np.bool_` here.\n",
      "Deprecated in NumPy 1.20; for more details and guidance: https://numpy.org/devdocs/release/1.20.0-notes.html#deprecations\n",
      "  dataset.data = dataset.data[idx.numpy().astype(np.bool)]\n"
     ]
    }
   ],
   "source": [
    "# data wrangling: get the first two classes for FMNIST\n",
    "FMNIST_transform = transforms.Compose([\n",
    "    transforms.ToTensor(),\n",
    "])\n",
    "\n",
    "\n",
    "FMNIST_train = torchvision.datasets.FashionMNIST(\n",
    "        '~/data/fmnist',\n",
    "        train=True,\n",
    "        download=True,\n",
    "        transform=FMNIST_transform)\n",
    "\n",
    "\n",
    "FMNIST_test = torchvision.datasets.FashionMNIST(\n",
    "        '~/data/fmnist',\n",
    "        train=False,\n",
    "        download=True,\n",
    "        transform=FMNIST_transform)\n",
    "\n",
    "def get_subset_FMNIST(classes=[0,1], dataset=FMNIST_train):\n",
    "    \n",
    "    dataset.targets = dataset.targets.clone().detach()\n",
    "    idx = torch.zeros(dataset.targets.size()).byte()\n",
    "    for c in classes:\n",
    "        idx += (dataset.targets==c).byte()\n",
    "    dataset.targets= dataset.targets[idx]\n",
    "    dataset.data = dataset.data[idx.numpy().astype(np.bool)]\n",
    "    \n",
    "    #remap all classes to list of ints starting at 1\n",
    "    map_dict = dict()\n",
    "    for i, c in enumerate(classes):\n",
    "        map_dict[c] = i\n",
    "    \n",
    "    for i, t in enumerate(dataset.targets):\n",
    "        dataset.targets[i] = map_dict[t.item()]\n",
    "    \n",
    "    return(dataset.data, dataset.targets)\n",
    "\n",
    "classes = [0,1]\n",
    "FMNIST_train.data, FMNIST_train.targets = get_subset_FMNIST(classes=classes, dataset=FMNIST_train)\n",
    "FMNIST_test.data, FMNIST_test.targets = get_subset_FMNIST(classes=classes, dataset=FMNIST_test)\n",
    "print(len(FMNIST_train.targets))\n",
    "print(FMNIST_train.targets[:10])\n",
    "print(len(FMNIST_test.targets))\n",
    "print(FMNIST_test.targets[:10])"
   ]
  },
  {
   "cell_type": "code",
   "execution_count": 19,
   "metadata": {},
   "outputs": [
    {
     "data": {
      "image/png": "[encoded data removed]",
      "text/plain": [
       "<Figure size 640x480 with 1 Axes>"
      ]
     },
     "metadata": {},
     "output_type": "display_data"
    }
   ],
   "source": [
    "# have a look at the images corresponding to FMNIST_train.targets[:10] \n",
    "def imshow(img):\n",
    "    npimg = img.numpy()\n",
    "    plt.imshow(np.transpose(npimg, (1, 2, 0)))\n",
    "    #plt.imshow(npimg)\n",
    "    plt.show()\n",
    "\n",
    "images = FMNIST_train.data[:10].view(10, 1, 28, 28)\n",
    "imshow(torchvision.utils.make_grid(images, nrow=5))"
   ]
  },
  {
   "cell_type": "code",
   "execution_count": 20,
   "metadata": {},
   "outputs": [],
   "source": [
    "# further data wrangling\n",
    "\n",
    "n_train_samples = 1000\n",
    "\n",
    "X_train = FMNIST_train.data[:n_train_samples].view(-1, 28*28)\n",
    "y_train = FMNIST_train.targets[:n_train_samples].view(-1)\n",
    "\n",
    "X_test = FMNIST_test.data.view(-1, 28*28)\n",
    "y_test = FMNIST_test.targets.view(-1)\n",
    "\n",
    "#normalize the data between [-1,1]\n",
    "X_train = (X_train.float() - 128) / 128\n",
    "X_test = (X_test.float() - 128) / 128\n",
    "\n",
    "X_train, X_test = X_train.numpy(), X_test.numpy()\n",
    "y_train, y_test = y_train.numpy(), y_test.numpy()"
   ]
  },
  {
   "cell_type": "code",
   "execution_count": 21,
   "metadata": {},
   "outputs": [
    {
     "name": "stdout",
     "output_type": "stream",
     "text": [
      "(1000, 784)\n",
      "(2000, 784)\n",
      "(1000,)\n",
      "(2000,)\n"
     ]
    }
   ],
   "source": [
    "print(X_train.shape)\n",
    "print(X_test.shape)\n",
    "print(y_train.shape)\n",
    "print(y_test.shape)"
   ]
  },
  {
   "cell_type": "code",
   "execution_count": 22,
   "metadata": {},
   "outputs": [
    {
     "name": "stdout",
     "output_type": "stream",
     "text": [
      "Fitting...\n"
     ]
    },
    {
     "ename": "KeyboardInterrupt",
     "evalue": "",
     "output_type": "error",
     "traceback": [
      "\u001b[1;31m---------------------------------------------------------------------------\u001b[0m",
      "\u001b[1;31mKeyboardInterrupt\u001b[0m                         Traceback (most recent call last)",
      "Input \u001b[1;32mIn [22]\u001b[0m, in \u001b[0;36m<cell line: 6>\u001b[1;34m()\u001b[0m\n\u001b[0;32m      4\u001b[0m gpc \u001b[38;5;241m=\u001b[39m GPClassifier(X_train, y_train, rbf_kernel)\n\u001b[0;32m      5\u001b[0m \u001b[38;5;28mprint\u001b[39m(\u001b[38;5;124m'\u001b[39m\u001b[38;5;124mFitting...\u001b[39m\u001b[38;5;124m'\u001b[39m)\n\u001b[1;32m----> 6\u001b[0m \u001b[43mgpc\u001b[49m\u001b[38;5;241;43m.\u001b[39;49m\u001b[43mfit\u001b[49m\u001b[43m(\u001b[49m\u001b[43m)\u001b[49m\n\u001b[0;32m      7\u001b[0m \u001b[38;5;28mprint\u001b[39m(\u001b[38;5;124m'\u001b[39m\u001b[38;5;124mFitted. Predicting...\u001b[39m\u001b[38;5;124m'\u001b[39m)\n\u001b[0;32m      8\u001b[0m scores, preds \u001b[38;5;241m=\u001b[39m gpc\u001b[38;5;241m.\u001b[39mpredict_all(X_test)\n",
      "Input \u001b[1;32mIn [13]\u001b[0m, in \u001b[0;36mGPClassifier.fit\u001b[1;34m(self)\u001b[0m\n\u001b[0;32m     57\u001b[0m b \u001b[38;5;241m=\u001b[39m W \u001b[38;5;241m@\u001b[39m f \u001b[38;5;241m+\u001b[39m (\u001b[38;5;28mself\u001b[39m\u001b[38;5;241m.\u001b[39my \u001b[38;5;241m-\u001b[39m pi)\n\u001b[0;32m     59\u001b[0m \u001b[38;5;66;03m# Line 7\u001b[39;00m\n\u001b[1;32m---> 60\u001b[0m a \u001b[38;5;241m=\u001b[39m b \u001b[38;5;241m-\u001b[39m W_sqrt \u001b[38;5;241m@\u001b[39m solve(L\u001b[38;5;241m.\u001b[39mT, solve(L, \u001b[43mW_sqrt\u001b[49m\u001b[43m \u001b[49m\u001b[38;5;241;43m@\u001b[39;49m\u001b[43m \u001b[49m\u001b[38;5;28;43mself\u001b[39;49m\u001b[38;5;241;43m.\u001b[39;49m\u001b[43mK\u001b[49m \u001b[38;5;241m@\u001b[39m b))\n\u001b[0;32m     62\u001b[0m \u001b[38;5;66;03m# Line 8\u001b[39;00m\n\u001b[0;32m     63\u001b[0m f \u001b[38;5;241m=\u001b[39m \u001b[38;5;28mself\u001b[39m\u001b[38;5;241m.\u001b[39mK \u001b[38;5;241m@\u001b[39m a\n",
      "\u001b[1;31mKeyboardInterrupt\u001b[0m: "
     ]
    }
   ],
   "source": [
    "# classify the data here and report your accuracy\n",
    "\n",
    "rbf_kernel = lambda x1, x2: rbf(x1, x2, 91.7, 1.12)\n",
    "gpc = GPClassifier(X_train, y_train, rbf_kernel)\n",
    "print('Fitting...')\n",
    "gpc.fit()\n",
    "print('Fitted. Predicting...')\n",
    "scores, preds = gpc.predict_all(X_test)\n",
    "print('Predicted')\n",
    "print(\"Accuracy: %.3f (OURS)\"\n",
    "      % (accuracy_score(y_test, preds)))"
   ]
  }
 ],
 "metadata": {
  "kernelspec": {
   "display_name": "Python 3",
   "language": "python",
   "name": "python3"
  },
  "language_info": {
   "codemirror_mode": {
    "name": "ipython",
    "version": 3
   },
   "file_extension": ".py",
   "mimetype": "text/x-python",
   "name": "python",
   "nbconvert_exporter": "python",
   "pygments_lexer": "ipython3",
   "version": "3.9.0"
  }
 },
 "nbformat": 4,
 "nbformat_minor": 4
}

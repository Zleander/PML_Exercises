{
 "cells": [
  {
   "cell_type": "markdown",
   "metadata": {},
   "source": [
    "# Probabilistic Machine Learning\n",
    "#### Machine Learning in Science, University of Tübingen, Summer Semester 2022\n",
    "## Exercise 06\n",
    "\n",
    "**hand in before 03.06.2022, 12:00 p.m. (noon)**\n",
    "\n",
    "---\n",
    "\n",
    "In the lecture you learned about Gaussian process regression, and how it is basically the infinite-dimension limit of classification using generalized linear models. In this programming exercise, you will explore GP classification, using publicly available implementations as well as implementing your own classifier.\n",
    "\n",
    "\n",
    "## Outline\n",
    "1) Play around with a toy dataset and the scikit-learn black box GPs to get an intuition on how different kernels behave and ask high-level questions about Gaussian Processes, Kernels, etc. (easy part).\n",
    "\n",
    "2) Implement a binary GP classification class yourself and apply it to the toy dataset and FashionMNIST dataset (harder part)."
   ]
  },
  {
   "cell_type": "markdown",
   "metadata": {},
   "source": [
    "# 1) Binary Gaussian process classification using scikit-learn and a toy dataset\n",
    "Recommended reference: https://scikit-learn.org/stable/modules/gaussian_process.html\n",
    "\n",
    "Exercise adapted from https://scikit-learn.org/stable/auto_examples/gaussian_process/plot_gpc.html#sphx-glr-download-auto-examples-gaussian-process-plot-gpc-py \n",
    "- License disclaimer\n",
    "```python\n",
    "# Authors: Jan Hendrik Metzen <jhm@informatik.uni-bremen.de>\n",
    "#\n",
    "# License: BSD 3 clause\n",
    "```"
   ]
  },
  {
   "cell_type": "code",
   "execution_count": 1,
   "metadata": {},
   "outputs": [],
   "source": [
    "import numpy as np\n",
    "\n",
    "from matplotlib import pyplot as plt\n",
    "\n",
    "from sklearn.metrics import accuracy_score, log_loss\n",
    "from sklearn.gaussian_process import GaussianProcessClassifier\n",
    "from sklearn.gaussian_process.kernels import RBF, Matern, DotProduct, RationalQuadratic, ExpSineSquared\n",
    "\n",
    "np.random.seed(42)"
   ]
  },
  {
   "cell_type": "markdown",
   "metadata": {},
   "source": [
    "## Create a toy dataset $p(y, X)$ \n",
    "of $N$ samples\n",
    "$$X \\sim U(0, 5)\\\\ \n",
    "    y(X)=\\begin{cases}\n",
    "      0, & \\text{if}\\ X\\leq2.5 \\\\\n",
    "      1, & \\text{otherwise}\n",
    "    \\end{cases}$$\n",
    "and split it into training and test splits. (Note: decide on your own how large $N$ and the split ratio is)."
   ]
  },
  {
   "cell_type": "code",
   "execution_count": 2,
   "metadata": {},
   "outputs": [
    {
     "data": {
      "text/plain": [
       "((500, 1), (500,))"
      ]
     },
     "execution_count": 2,
     "metadata": {},
     "output_type": "execute_result"
    }
   ],
   "source": [
    "# to create a toy dataset\n",
    "n = 500\n",
    "train_size = int(n * .8)\n",
    "\n",
    "X = np.random.uniform(0,5, size=(n,1))\n",
    "y = np.zeros(n)\n",
    "y[X[:,0] > 2.5] = 1\n",
    "X.shape, y.shape"
   ]
  },
  {
   "cell_type": "code",
   "execution_count": 3,
   "metadata": {},
   "outputs": [],
   "source": [
    "# to create a training and testing split\n",
    "X_train = X[:train_size]\n",
    "y_train = y[:train_size]\n",
    "X_test = X[train_size:]\n",
    "y_test = y[train_size:]"
   ]
  },
  {
   "cell_type": "code",
   "execution_count": 4,
   "metadata": {},
   "outputs": [
    {
     "name": "stdout",
     "output_type": "stream",
     "text": [
      "X_train shape:  (400, 1)\n",
      "y_train shape:  (400,)\n",
      "X_test shape:  (100, 1)\n",
      "y_test shape:  (100,)\n"
     ]
    }
   ],
   "source": [
    "# to verify the split\n",
    "print(\"X_train shape: \", X_train.shape)\n",
    "print(\"y_train shape: \", y_train.shape)\n",
    "print(\"X_test shape: \", X_test.shape)\n",
    "print(\"y_test shape: \", y_test.shape)"
   ]
  },
  {
   "cell_type": "markdown",
   "metadata": {},
   "source": [
    "## Specify kernels for the Gaussian process classification\n",
    "- RBF\n",
    "- Matern\n",
    "- RationalQuadratic\n",
    "- ExpSineSquared\n",
    "- DotProduct\n",
    "\n",
    "Tipp: check out the documentation in scikit-learn, e.g. for RBF\n",
    "https://scikit-learn.org/stable/modules/generated/sklearn.gaussian_process.kernels.RBF.html"
   ]
  },
  {
   "cell_type": "code",
   "execution_count": 5,
   "metadata": {},
   "outputs": [],
   "source": [
    "# specify the kernels\n",
    "RBF_kernel = 1.0 * RBF(1.0)\n",
    "Matern_kernel = 1.0 * Matern(length_scale=1.0, nu=1.5)\n",
    "RationalQuadratic_kernel = 1 * RationalQuadratic(length_scale=1.0, alpha=1.5)\n",
    "ExpSineSquared_kernel = 1 * ExpSineSquared(length_scale=1, periodicity=1)\n",
    "DotProduct_kernel = DotProduct()"
   ]
  },
  {
   "cell_type": "markdown",
   "metadata": {},
   "source": [
    "## Instantiate Gaussian process classifier (GPC) objects\n",
    "\n",
    "Choose a kernel and create the Gaussian process classifier instances.\n",
    "To compare the initial kernel vs. the optimized kernel, create two instances: (1) `gp_fix` with `optimizer=None` and (2) `gp_opt` without specifying `optimizer`, leaving it at its default value (maximum log-marginal likelihood estimation). Call the `.fit(X, y)` method on both to fit the training data. "
   ]
  },
  {
   "cell_type": "code",
   "execution_count": 6,
   "metadata": {},
   "outputs": [
    {
     "name": "stderr",
     "output_type": "stream",
     "text": [
      "/Users/leander/opt/anaconda3/lib/python3.8/site-packages/sklearn/gaussian_process/_gpc.py:448: ConvergenceWarning: lbfgs failed to converge (status=2):\n",
      "ABNORMAL_TERMINATION_IN_LNSRCH.\n",
      "\n",
      "Increase the number of iterations (max_iter) or scale the data as shown in:\n",
      "    https://scikit-learn.org/stable/modules/preprocessing.html\n",
      "  _check_optimize_result(\"lbfgs\", opt_res)\n",
      "/Users/leander/opt/anaconda3/lib/python3.8/site-packages/sklearn/gaussian_process/kernels.py:411: ConvergenceWarning: The optimal value found for dimension 0 of parameter k1__constant_value is close to the specified upper bound 100000.0. Increasing the bound and calling fit again may find a better value.\n",
      "  warnings.warn(\"The optimal value found for \"\n"
     ]
    },
    {
     "data": {
      "text/plain": [
       "GaussianProcessClassifier(kernel=1**2 * RBF(length_scale=1))"
      ]
     },
     "execution_count": 6,
     "metadata": {},
     "output_type": "execute_result"
    }
   ],
   "source": [
    "# Specify Gaussian Processes with fixed and optimized hyperparameters\n",
    "gp_fix = GaussianProcessClassifier(optimizer=None, kernel=RBF_kernel)\n",
    "gp_fix.fit(X_train,y_train)\n",
    "\n",
    "gp_opt = GaussianProcessClassifier(kernel=RBF_kernel)\n",
    "gp_opt.fit(X_train,y_train)"
   ]
  },
  {
   "cell_type": "code",
   "execution_count": 7,
   "metadata": {},
   "outputs": [
    {
     "data": {
      "text/plain": [
       "(1**2 * RBF(length_scale=1), 316**2 * RBF(length_scale=1.51))"
      ]
     },
     "execution_count": 7,
     "metadata": {},
     "output_type": "execute_result"
    }
   ],
   "source": [
    "# to verify the kernels differ\n",
    "gp_fix.kernel_, gp_opt.kernel_"
   ]
  },
  {
   "cell_type": "markdown",
   "metadata": {},
   "source": [
    "## Print the log marginal likelihood $\\text{log} p(\\theta)$ for the kernel parameter to compare the initial and the optimized kernel parameter log probabilities"
   ]
  },
  {
   "cell_type": "code",
   "execution_count": 8,
   "metadata": {},
   "outputs": [
    {
     "name": "stdout",
     "output_type": "stream",
     "text": [
      "Log Marginal Likelihood (initial): -53.115\n",
      "Log Marginal Likelihood (optimized): -6.603\n"
     ]
    }
   ],
   "source": [
    "print(\"Log Marginal Likelihood (initial): %.3f\"\n",
    "      % gp_fix.log_marginal_likelihood(gp_fix.kernel_.theta))\n",
    "print(\"Log Marginal Likelihood (optimized): %.3f\"\n",
    "      % gp_opt.log_marginal_likelihood(gp_opt.kernel_.theta))"
   ]
  },
  {
   "cell_type": "markdown",
   "metadata": {},
   "source": [
    "## Print the accuracy (using `accuracy_score`) between prediction and ground truth class to compare the initialized and the optimized GPC classification performance"
   ]
  },
  {
   "cell_type": "code",
   "execution_count": 9,
   "metadata": {},
   "outputs": [
    {
     "name": "stdout",
     "output_type": "stream",
     "text": [
      "Accuracy: 0.980 (initial) 1.000 (optimized)\n"
     ]
    }
   ],
   "source": [
    "print(\"Accuracy: %.3f (initial) %.3f (optimized)\"\n",
    "      % (accuracy_score(y_test, gp_fix.predict(X_test)),\n",
    "         accuracy_score(y_test, gp_opt.predict(X_test))))"
   ]
  },
  {
   "cell_type": "markdown",
   "metadata": {},
   "source": [
    "## Print the log loss (using `log_loss`) between prediction and ground truth class to compare how the maximum log-marginal likelihood estimates compare to the arbitrary kernel parameters "
   ]
  },
  {
   "cell_type": "code",
   "execution_count": 10,
   "metadata": {},
   "outputs": [
    {
     "name": "stdout",
     "output_type": "stream",
     "text": [
      "Log-loss: 0.086 (initial) 0.198 (optimized)\n"
     ]
    }
   ],
   "source": [
    "print(\"Log-loss: %.3f (initial) %.3f (optimized)\"\n",
    "      % (log_loss(y_test, gp_fix.predict_proba(X_test)),\n",
    "         log_loss(y_test, gp_opt.predict_proba(X_test))))"
   ]
  },
  {
   "cell_type": "code",
   "execution_count": 11,
   "metadata": {},
   "outputs": [
    {
     "data": {
      "image/png": "[encoded data removed]",
      "text/plain": [
       "<Figure size 1080x576 with 1 Axes>"
      ]
     },
     "metadata": {
      "needs_background": "light"
     },
     "output_type": "display_data"
    }
   ],
   "source": [
    "# Plot posteriors\n",
    "plt.figure(figsize=(15,8))\n",
    "plt.scatter(X_train[:, 0], y_train, c='purple', label=\"Train data\",\n",
    "            edgecolors=(0, 0, 0))\n",
    "plt.scatter(X_test[:, 0], y_test, c='orange', label=\"Test data\",\n",
    "            edgecolors=(0, 0, 0))\n",
    "X_ = np.linspace(0, 5, 100)\n",
    "plt.plot(X_, gp_fix.predict_proba(X_[:, np.newaxis])[:, 1], 'r',\n",
    "         label=\"Initial kernel: %s\" % gp_fix.kernel_)\n",
    "plt.plot(X_, gp_opt.predict_proba(X_[:, np.newaxis])[:, 1], 'b',\n",
    "         label=\"Optimized kernel: %s\" % gp_opt.kernel_)\n",
    "plt.xlabel(\"Feature\")\n",
    "plt.ylabel(\"Class 1 probability\")\n",
    "plt.xlim(0, 5)\n",
    "plt.ylim(-0.25, 1.5)\n",
    "plt.legend(loc=\"best\")\n",
    "plt.show()"
   ]
  },
  {
   "cell_type": "code",
   "execution_count": 12,
   "metadata": {},
   "outputs": [
    {
     "name": "stderr",
     "output_type": "stream",
     "text": [
      "<ipython-input-12-1181c4605a36>:13: MatplotlibDeprecationWarning: shading='flat' when X and Y have the same dimensions as C is deprecated since 3.3.  Either specify the corners of the quadrilaterals with X and Y, or pass shading='auto', 'nearest' or 'gouraud', or set rcParams['pcolor.shading'].  This will become an error two minor releases later.\n",
      "  plt.pcolor(Theta0, Theta1, LML)\n"
     ]
    },
    {
     "data": {
      "image/png": "[encoded data removed]",
      "text/plain": [
       "<Figure size 1080x720 with 2 Axes>"
      ]
     },
     "metadata": {
      "needs_background": "light"
     },
     "output_type": "display_data"
    }
   ],
   "source": [
    "# Plot LML landscape\n",
    "plt.figure(figsize=(15,10))\n",
    "theta0 = np.logspace(0, 8, 30)\n",
    "theta1 = np.logspace(-1, 1, 29)\n",
    "Theta0, Theta1 = np.meshgrid(theta0, theta1)\n",
    "LML = [[gp_opt.log_marginal_likelihood(np.log([Theta0[i, j], Theta1[i, j]]))\n",
    "        for i in range(Theta0.shape[0])] for j in range(Theta0.shape[1])]\n",
    "LML = np.array(LML).T\n",
    "plt.plot(np.exp(gp_fix.kernel_.theta)[0], np.exp(gp_fix.kernel_.theta)[1],\n",
    "         'ko', zorder=10)\n",
    "plt.plot(np.exp(gp_opt.kernel_.theta)[0], np.exp(gp_opt.kernel_.theta)[1],\n",
    "         'ko', zorder=10)\n",
    "plt.pcolor(Theta0, Theta1, LML)\n",
    "plt.xscale(\"log\")\n",
    "plt.yscale(\"log\")\n",
    "plt.colorbar()\n",
    "plt.xlabel(\"Magnitude\")\n",
    "plt.ylabel(\"Length-scale\")\n",
    "plt.title(\"Log-marginal-likelihood\")\n",
    "\n",
    "plt.show()"
   ]
  },
  {
   "cell_type": "markdown",
   "metadata": {},
   "source": [
    "## Questions:\n",
    "1. What do the blue and the red line in the posterior plot represent?\n",
    "2. What does the log-marginal-likelihood describe and what is it used for?\n",
    "3. Using an initial RBF kernel `1**2 * RBF(length_scale=1)`, can you use the plot of the class 1 probability to reason about why the log loss with the initial RBF kernel is lower than with the optimized RBF kernel?\n",
    "4. Check out all 5 different kernels. Which one is the best fit? Is any Kernel strictly better than another?\n",
    "5. Implement a different function and test it with all 5 Kernels. Is every Kernel able to fit the problem? The function can be simple, e.g. 1 if x < 1 or x > 4, 0 else.\n",
    "\n",
    "Note: text of single sentences to answer the questions that don't require code at this point are sufficient."
   ]
  },
  {
   "cell_type": "markdown",
   "metadata": {},
   "source": [
    "## Answers:\n",
    "1. Both show the output probability (for class 1) of the corresponding estimator, over the given sample X.  The blue line is using the optimized Kernel, which results in a much sharper deision boundary\n",
    "2. \n",
    "3. While in the middle, the optimized kernel outputs probabilities closer ot 0 and 1, towards X=0 and X=5, it is the other way around, s.t. the optimized kernel produces probabilities close to .5 overall, resulting in a higher loss inspite of the perfect acuracy.\n",
    "4. Most Kernels produce a really good accuracy. In terms of log loss the optimized DotProduct Kernel, followed by the unoptimized MaternKernel perform the best. The unoptimized ExpSineSquared Kernel is not usable for this problem"
   ]
  },
  {
   "cell_type": "markdown",
   "metadata": {},
   "source": [
    "# 2) Implementing a binary Gaussian process classification object\n",
    "\n",
    "Instructions:\n",
    "- complete the methods `fit`, `predict_all` of the class `GPClassifier`. This is supposed to give some structure to the programming to focus on the hard parts. Feel free to implement your own way from scratch. We suggest you document *why* you implement it the way you do.\n",
    "\n",
    "```python\n",
    "from scipy.stats import norm\n",
    "from scipy.integrate import quad\n",
    "from scipy.special import expit as sigmoid\n",
    "from scipy.spatial.distance import cdist\n",
    "\n",
    "# based on the implementation given in the book by Rasmussen and Williams\n",
    "class GPClassifier:\n",
    "    \n",
    "    def __init__(self, X, y, kernel):\n",
    "        self.X = X\n",
    "        self.y = y\n",
    "        self.kernel = kernel\n",
    "        self.K = self.kernel(self.X, self.X)\n",
    "        assert len(self.X) == len(self.y)\n",
    "        self.size = len(self.X)\n",
    "        \n",
    "        self.f = None\n",
    "        self.W = None\n",
    "        self.L = None \n",
    "            \n",
    "    def fit(self):\n",
    "        \"\"\"Single class, mode-finding algorithm for binary GPC.\n",
    "        \n",
    "        Returns:\n",
    "             float: Log-marginal likelihood after convergence, \n",
    "                 here |obj - obj_old| < 1e-5.\n",
    "                 \n",
    "        Note:\n",
    "            Requires:\n",
    "                self.K        \n",
    "            Updates:\n",
    "                self.W\n",
    "                self.L\n",
    "                self.f\n",
    "        \n",
    "        Reference: Algorithm 3.1, Rasmussen and Williams\n",
    "        \"\"\"\n",
    "        ...\n",
    "                \n",
    "    \n",
    "    def predict_all(self, X_pred):\n",
    "        \"\"\"Predictions for binary GPC.\n",
    "        \n",
    "        Returns:\n",
    "            array: predictive class probability for class 1.\n",
    "            array: class labels y_pred.\n",
    "            \n",
    "        Note:\n",
    "            Requires:\n",
    "                self.X\n",
    "                self.y\n",
    "                self.L\n",
    "                self.W\n",
    "                self.kernel\n",
    "                self.f          \n",
    "        \n",
    "        Reference: Algorithm 3.2, Rasmussen and Williams\n",
    "        \"\"\"\n",
    "        ...\n",
    "```\n",
    "\n",
    "- only consider binary classification\n",
    "- use the cholesky decomposition to solve the linear system because that is numerically stable\n",
    "- use the kernel parameters suggested in the toy example instead of implementing an optimizer\n",
    "\n",
    "- Hints: \n",
    "    1. Use the knowledge from the lecture on GPs and Gaussian_Process_Regression_2022.ipynb. You can base your implementation on the classification algorithm (3.1) from Rasmussen and Williams in http://www.gaussianprocess.org/gpml/chapters/RW3.pdf.\n",
    "    2. Implement the likelihood according to using [0,1] labels.\n",
    "    3. You can compute a definite integral using `scipy.integrate.quad`."
   ]
  },
  {
   "cell_type": "code",
   "execution_count": 175,
   "metadata": {},
   "outputs": [],
   "source": [
    "# implement your GPClassifier here\n",
    "from scipy.stats import norm\n",
    "from scipy.integrate import quad\n",
    "from scipy.special import expit as sigmoid\n",
    "from scipy.spatial.distance import cdist\n",
    "from numpy.linalg import cholesky, solve\n",
    "\n",
    "\n",
    "# based on the implementation given in the book by Rasmussen and Williams\n",
    "class GPClassifier:\n",
    "    \n",
    "    def __init__(self, X, y, kernel):\n",
    "        self.X = X\n",
    "        self.y = y\n",
    "        self.kernel = kernel\n",
    "        self.K = self.kernel(self.X, self.X)\n",
    "        assert len(self.X) == len(self.y)\n",
    "        self.size = len(self.X)\n",
    "        \n",
    "        self.f = None\n",
    "        self.W = None\n",
    "        self.L = None \n",
    "        \n",
    "    def fit(self):\n",
    "        \"\"\"Single class, mode-finding algorithm for binary GPC.\n",
    "        \n",
    "        Returns:\n",
    "             float: Log-marginal likelihood after convergence, \n",
    "                 here |obj - obj_old| < 1e-5.\n",
    "                 \n",
    "        Note:\n",
    "            Requires:\n",
    "                self.K        \n",
    "            Updates:\n",
    "                self.W\n",
    "                self.L\n",
    "                self.f\n",
    "        \n",
    "        Reference: Algorithm 3.1, Rasmussen and Williams\n",
    "        \"\"\"\n",
    "        f = f = np.zeros_like(self.y, dtype=np.float64)\n",
    "        log_marginal_likelihood = -np.inf\n",
    "        while True: \n",
    "            # Line 4\n",
    "            pi = sigmoid(f)\n",
    "            W = pi * (1 - pi)\n",
    "            # Line 5\n",
    "            W_sr = np.sqrt(W)\n",
    "            W_sr_K = W_sr[:, np.newaxis] * self.K\n",
    "            B = np.eye(W.shape[0]) + W_sr_K * W_sr\n",
    "            L = cholesky(B)\n",
    "            # Line 6\n",
    "            b = W * f + (self.y - pi)\n",
    "            # Line 7\n",
    "            a = b - W_sr * cho_solve((L, True), W_sr_K.dot(b))\n",
    "            # Line 8\n",
    "            f = self.K.dot(a)\n",
    "            \n",
    "            # Line 10: Compute log marginal likelihood in loop and use as\n",
    "            #          convergence criterion\n",
    "            lml = (\n",
    "                -0.5 * a.T.dot(f)\n",
    "                - np.log1p(np.exp(-(self.y * 2 - 1) * f)).sum()\n",
    "                - np.log(np.diag(L)).sum()\n",
    "            )\n",
    "            # Check if we have converged (log marginal likelihood does\n",
    "            # not decrease)\n",
    "            # XXX: more complex convergence criterion\n",
    "            if lml - log_marginal_likelihood < 1e-5:\n",
    "                break\n",
    "            log_marginal_likelihood = lml\n",
    "            \n",
    "        self.f = f\n",
    "        self.W = W \n",
    "        self.L = L\n",
    "        return log_marginal_likelihood\n",
    "                \n",
    "    def fit_(self):\n",
    "        \"\"\"Single class, mode-finding algorithm for binary GPC.\n",
    "        \n",
    "        Returns:\n",
    "             float: Log-marginal likelihood after convergence, \n",
    "                 here |obj - obj_old| < 1e-5.\n",
    "                 \n",
    "        Note:\n",
    "            Requires:\n",
    "                self.K        \n",
    "            Updates:\n",
    "                self.W\n",
    "                self.L\n",
    "                self.f\n",
    "        \n",
    "        Reference: Algorithm 3.1, Rasmussen and Williams\n",
    "        \"\"\"\n",
    "        f = np.zeros(size)\n",
    "        log_marginal_likelihood = -np.inf\n",
    "        while True: \n",
    "            # Line 4\n",
    "            pi = sigmoid(f)\n",
    "            W = np.zeros_like(self.K)\n",
    "            \n",
    "            np.fill_diagonal(W, (pi * (1-pi)))\n",
    "            W_sqrt = np.sqrt(W)\n",
    "            \n",
    "            # Line 5\n",
    "            B = np.identity(W.shape[0]) + W_sqrt @ self.K @ W_sqrt\n",
    "\n",
    "            L = np.linalg.cholesky(B)\n",
    "            \n",
    "            # Line 6\n",
    "            b = W @ f + (self.y - pi)\n",
    "\n",
    "            # Line 7\n",
    "            a = b - W_sqrt @ solve(L.T, solve(L, W_sqrt @ self.K @ b))\n",
    "            \n",
    "            # Line 8\n",
    "            f = self.K @ a\n",
    "            \n",
    "            # Line 10:\n",
    "            lml = (-0.5 * a.T @ f) - np.log(1 + np.exp(((self.y*2)-1) @ f)) - np.log(L.diagonal()).sum()\n",
    "            \n",
    "            # Check if we have converged (log marginal likelihood does\n",
    "            # not decrease)\n",
    "            if np.abs(lml - log_marginal_likelihood) < 1e-5:\n",
    "                break\n",
    "            log_marginal_likelihood = lml\n",
    "            \n",
    "        self.f = f\n",
    "        self.W = W \n",
    "        self.L = L\n",
    "        return log_marginal_likelihood\n",
    "    \n",
    "    def predict_all(self, X_pred):\n",
    "        \"\"\"Predictions for binary GPC.\n",
    "        \n",
    "        Returns:\n",
    "            array: predictive class probability for class 1.\n",
    "            array: class labels y_pred.\n",
    "            \n",
    "        Note:\n",
    "            Requires:\n",
    "                self.X\n",
    "                self.y\n",
    "                self.L\n",
    "                self.W\n",
    "                self.kernel\n",
    "                self.f          \n",
    "        \n",
    "        Reference: Algorithm 3.2, Rasmussen and Williams\n",
    "        \"\"\"\n",
    "        K_star = self.kernel(self.X, X_pred)  # K_star =k(x_star)\n",
    "        f_star = K_star.T.dot(self.y - sigmoid(self.f))  # Line 4\n",
    "        v = solve(self.L, np.sqrt(self.W)[:, np.newaxis] * K_star)  # Line 5\n",
    "        # Line 6 (compute np.diag(v.T.dot(v)) via einsum)\n",
    "        var_f_star = self.kernel.diag(X_pred) - np.einsum(\"ij,ij->j\", v, v)\n",
    "        \n",
    "        #print(f_star.shape)\n",
    "        #print(var_f_star.shape)\n",
    "        \n",
    "        quad(lambda z: sigmoid(z)*norm.pdf(z, loc=f_star, scale=var_f_star), -np.inf, np.inf)\n",
    "        return (_, y_pred)"
   ]
  },
  {
   "cell_type": "markdown",
   "metadata": {},
   "source": [
    "## Use your own GPC implementation to classify the toy data from exercise 1)\n",
    "Instructions:\n",
    "- implement the rbf kernel (and e.g. linear) to be used with `GPClassifier`.\n",
    "    E.g.:\n",
    "    ``` python\n",
    "    # kernels:\n",
    "    def rbf(x1,x2, sigma, ell):\n",
    "        ...\n",
    "    def linear(x_1, x_2, sigma):\n",
    "        ...\n",
    "        \n",
    "    # set the kernel parameters from the toy example\n",
    "    rbf_kernel = lambda x1, x2: rbf(x1, x2, 91.7, 1.12)\n",
    "    linear_kernel = lambda x1, x2: linear(x1, x2, ?)\n",
    "    ```\n",
    "- compare your results to the scikit-learn off-the-shelf GP. Hint: they should be similar ;)"
   ]
  },
  {
   "cell_type": "code",
   "execution_count": 176,
   "metadata": {},
   "outputs": [
    {
     "name": "stdout",
     "output_type": "stream",
     "text": [
      "X_train shape:  (50, 1)\n",
      "y_train shape:  (50,)\n",
      "X_test shape:  (50, 1)\n",
      "y_test shape:  (50,)\n"
     ]
    }
   ],
   "source": [
    "# to create a toy dataset\n",
    "n = 100\n",
    "train_size = 50\n",
    "X = np.random.uniform(0, 5, n)\n",
    "y = (X > 2.5).astype(int)  # using bool to int casting\n",
    "# to create a training and testing split\n",
    "X_train = X[0:train_size].reshape(-1,1)\n",
    "y_train = y[0:train_size]\n",
    "X_test = X[train_size:n].reshape(-1,1)\n",
    "y_test = y[train_size:n]\n",
    "# to verify the split\n",
    "print(\"X_train shape: \", X_train.shape)\n",
    "print(\"y_train shape: \", y_train.shape)\n",
    "print(\"X_test shape: \", X_test.shape)\n",
    "print(\"y_test shape: \", y_test.shape)\n"
   ]
  },
  {
   "cell_type": "code",
   "execution_count": null,
   "metadata": {},
   "outputs": [
    {
     "name": "stderr",
     "output_type": "stream",
     "text": [
      "<ipython-input-175-ef12f1c33b29>:66: RuntimeWarning: overflow encountered in exp\n",
      "  lml = (-0.5 * a.T @ f) - np.log(1 + np.exp(((self.y*2)-1) @ f)) - np.log(L.diagonal()).sum()\n",
      "<ipython-input-175-ef12f1c33b29>:70: RuntimeWarning: invalid value encountered in double_scalars\n",
      "  if np.abs(lml - log_marginal_likelihood) < 1e-5:\n"
     ]
    }
   ],
   "source": [
    "# implement your kernels here and classify the toy data\n",
    "RBF_kernel_opt= 316**2 * RBF(length_scale=1.51)\n",
    "gpc = GPClassifier(X_train, y_train, RBF_kernel_opt)\n",
    "gpc.fit()"
   ]
  },
  {
   "cell_type": "markdown",
   "metadata": {},
   "source": [
    "## Use your own GPC implementation to separate images of Tshirts from images of Trousers using Fashion MNIST\n",
    "Instructions:\n",
    "- we use class 0 for t-shirts/tops and class 1 for trousers as the two classes for the binary classification.\n",
    "- the nasty data wrangling stuff has already been done for you by Pytorch and us.\n",
    "- decide on a considerate number of samples to train the GPC.\n",
    "- how accurate can you separate images of Tshirts from images of Trousers using your own `GPClassifier`?"
   ]
  },
  {
   "cell_type": "code",
   "execution_count": null,
   "metadata": {},
   "outputs": [],
   "source": [
    "import torch, torchvision\n",
    "import torchvision.transforms as transforms\n",
    "torch.manual_seed(42)"
   ]
  },
  {
   "cell_type": "code",
   "execution_count": null,
   "metadata": {},
   "outputs": [],
   "source": [
    "# data wrangling: get the first two classes for FMNIST\n",
    "FMNIST_transform = transforms.Compose([\n",
    "    transforms.ToTensor(),\n",
    "])\n",
    "\n",
    "\n",
    "FMNIST_train = torchvision.datasets.FashionMNIST(\n",
    "        '~/data/fmnist',\n",
    "        train=True,\n",
    "        download=True,\n",
    "        transform=FMNIST_transform)\n",
    "\n",
    "\n",
    "FMNIST_test = torchvision.datasets.FashionMNIST(\n",
    "        '~/data/fmnist',\n",
    "        train=False,\n",
    "        download=True,\n",
    "        transform=FMNIST_transform)\n",
    "\n",
    "def get_subset_FMNIST(classes=[0,1], dataset=FMNIST_train):\n",
    "    \n",
    "    dataset.targets = dataset.targets.clone().detach()\n",
    "    idx = torch.zeros(dataset.targets.size()).byte()\n",
    "    for c in classes:\n",
    "        idx += (dataset.targets==c).byte()\n",
    "    dataset.targets= dataset.targets[idx]\n",
    "    dataset.data = dataset.data[idx.numpy().astype(np.bool)]\n",
    "    \n",
    "    #remap all classes to list of ints starting at 1\n",
    "    map_dict = dict()\n",
    "    for i, c in enumerate(classes):\n",
    "        map_dict[c] = i\n",
    "    \n",
    "    for i, t in enumerate(dataset.targets):\n",
    "        dataset.targets[i] = map_dict[t.item()]\n",
    "    \n",
    "    return(dataset.data, dataset.targets)\n",
    "\n",
    "classes = [0,1]\n",
    "FMNIST_train.data, FMNIST_train.targets = get_subset_FMNIST(classes=classes, dataset=FMNIST_train)\n",
    "FMNIST_test.data, FMNIST_test.targets = get_subset_FMNIST(classes=classes, dataset=FMNIST_test)\n",
    "print(len(FMNIST_train.targets))\n",
    "print(FMNIST_train.targets[:10])\n",
    "print(len(FMNIST_test.targets))\n",
    "print(FMNIST_test.targets[:10])"
   ]
  },
  {
   "cell_type": "code",
   "execution_count": null,
   "metadata": {},
   "outputs": [],
   "source": [
    "# have a look at the images corresponding to FMNIST_train.targets[:10] \n",
    "def imshow(img):\n",
    "    npimg = img.numpy()\n",
    "    plt.imshow(np.transpose(npimg, (1, 2, 0)))\n",
    "    #plt.imshow(npimg)\n",
    "    plt.show()\n",
    "\n",
    "images = FMNIST_train.data[:10].view(10, 1, 28, 28)\n",
    "imshow(torchvision.utils.make_grid(images, nrow=5))"
   ]
  },
  {
   "cell_type": "code",
   "execution_count": null,
   "metadata": {},
   "outputs": [],
   "source": [
    "# further data wrangling\n",
    "\n",
    "n_train_samples = ...\n",
    "\n",
    "X_train = FMNIST_train.data[:n_train_samples].view(-1, 28*28)\n",
    "y_train = FMNIST_train.targets[:n_train_samples].view(-1)\n",
    "\n",
    "X_test = FMNIST_test.data.view(-1, 28*28)\n",
    "y_test = FMNIST_test.targets.view(-1)\n",
    "\n",
    "#normalize the data between [-1,1]\n",
    "X_train = (X_train.float() - 128) / 128\n",
    "X_test = (X_test.float() - 128) / 128\n",
    "\n",
    "X_train, X_test = X_train.numpy(), X_test.numpy()\n",
    "y_train, y_test = y_train.numpy(), y_test.numpy()"
   ]
  },
  {
   "cell_type": "code",
   "execution_count": null,
   "metadata": {},
   "outputs": [],
   "source": [
    "# classify the data here and report your accuracy\n",
    "..."
   ]
  }
 ],
 "metadata": {
  "kernelspec": {
   "display_name": "Python 3",
   "language": "python",
   "name": "python3"
  },
  "language_info": {
   "codemirror_mode": {
    "name": "ipython",
    "version": 3
   },
   "file_extension": ".py",
   "mimetype": "text/x-python",
   "name": "python",
   "nbconvert_exporter": "python",
   "pygments_lexer": "ipython3",
   "version": "3.8.8"
  }
 },
 "nbformat": 4,
 "nbformat_minor": 4
}

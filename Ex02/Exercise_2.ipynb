{
 "cells": [
  {
   "cell_type": "markdown",
   "metadata": {},
   "source": [
    "# Probabilistic Machine Learning {-}\n",
    "#### Machine Learning in Science, University of Tübingen, Summer Semester 2022\n",
    "# Exercise 02\n",
    "\n",
    "**hand in before 06.05.2022, 12:00 p.m. (noon)**\n",
    "\n",
    "---"
   ]
  },
  {
   "cell_type": "markdown",
   "metadata": {},
   "source": [
    "**Julian Zimmerlin 6009977**  \n",
    "**Leander Zimmermann 4165446**"
   ]
  },
  {
   "cell_type": "markdown",
   "metadata": {},
   "source": [
    "## EXAMple\n",
    "### a)\n"
   ]
  },
  {
   "cell_type": "code",
   "execution_count": 17,
   "metadata": {},
   "outputs": [
    {
     "data": {
      "image/png": "[encoded data removed]",
      "text/plain": [
       "<Figure size 432x288 with 1 Axes>"
      ]
     },
     "metadata": {
      "needs_background": "light"
     },
     "output_type": "display_data"
    }
   ],
   "source": [
    "import matplotlib.pyplot as plt\n",
    "from matplotlib.patches import Rectangle\n",
    "fig, ax = plt.subplots()\n",
    "ax.add_patch(Rectangle((0,0), 1, 1))\n",
    "ax.add_patch(Rectangle((-1,-1), 1,1))\n",
    "ax.set_ylim(-1.5,1.5)\n",
    "ax.set_xlim(-1.5,1.5)\n",
    "ax.set_ylabel(\"Y\")\n",
    "ax.set_xlabel(\"X\")\n",
    "ax.legend([\"support\"])\n",
    "plt.show()"
   ]
  },
  {
   "cell_type": "markdown",
   "metadata": {},
   "source": [
    "### b)\n",
    "They are not independent, as $P(Y \\mid X=-0.5) \\neq P(Y\\mid X=0.5)$, as can be seen from the plot above\n",
    "### c)\n",
    "\\begin{align*}\n",
    "    \\iint p(x,y)dxdy \n",
    "    &= \\int_{-1}^1 \\left( \\int_{-1}^0 p(x,y)dx + \\int_{0}^1 p(x,y)dx\\right)dy \\\\\n",
    "    &= \\int_{-1}^0 \\int_{-1}^0 p(x,y)dxdy + \\underbrace{\\int_{0}^1 \\int_{-1}^0 p(x,y)dxdy}_{=0} + \n",
    "       \\int_{0}^1 \\int_{0}^1 p(x,y)dxdy + \\underbrace{\\int_{-1}^0 \\int_{0}^1 p(x,y)dxdy}_{=0} \\\\\n",
    "    &= \\int_{-1}^0 \\int_{-1}^0 \\frac{1}{2}dxdy + \\int_{0}^1 \\int_{0}^1 \\frac{1}{2}dxdy  \\\\\n",
    "    &= \\frac{1}{2}+\\frac{1}{2} = 1\n",
    "\\end{align*}\n",
    "### d)\n",
    "\\begin{align*}\n",
    "    \\int_{-1}^0 p(x,y) dy &= \\begin{cases}\\frac{1}{2} & \\text{if } -1<x<0\\\\ 0 & \\text{else}\\end{cases} \\\\\n",
    "    \\int_{0}^1 p(x,y) dy &= \\begin{cases}\\frac{1}{2} & \\text{if } 0<x<\\\\ 0 & \\text{else}\\end{cases} \\\\\n",
    "    p(x) &= \\int p(x,y) dy\\\\\n",
    "    &= \\int_{-1}^0 p(x,y) dy + \\int_{0}^1 p(x,y) dy \\\\\n",
    "    &= \\begin{cases}\\frac{1}{2} & \\text{if } -1<x<0\\\\ \\frac{1}{2} & \\text{if } 0<x<-1 \\\\ 0 & \\text{else}\\end{cases}\n",
    "\\end{align*}\n",
    "By symmetry: $p(x)=p(y)$\n",
    "\n",
    "\n",
    "\n",
    "\n",
    "\n",
    "\n",
    "\n",
    "\n",
    "\n",
    "\n",
    "\n",
    "\n",
    "\n",
    "\n",
    "\n",
    "\n",
    "\n",
    "\n",
    "\n",
    "### e)\n",
    "\\begin{align*}\n",
    "    p(y \\mid x) &= \\frac{p(x,y)}{p(x)} \\\\\n",
    "    &= \\begin{cases}\\frac{0.5}{0.5} & \\text{if } -1<x<0, -1<y<0\\\\ \\frac{0.5}{0.5} & \\text{if } 0<x<-1,0<y<1 \\\\ 0 & \\text{else}\\end{cases} \\\\\n",
    "    &= \\begin{cases}1& \\text{if } -1<x<0, -1<y<0\\\\ 1 & \\text{if } 0<x<-1,0<y<1 \\\\ 0 & \\text{else}\\end{cases} \\\\\n",
    "    &= 2p(x,y)\n",
    "\\end{align*}\n",
    "By symmetry: $p(x\\mid y)=p(y\\mid x)$\n",
    "### f)\n",
    "\\begin{align*}\n",
    "    E(X) &= \\int_{-1}^0 \\frac{1}{2}x dx + \\int_{0}^1 \\frac{1}{2}x dx = 0 \\\\\n",
    "    E(X\\mid Y) \n",
    "    &= \\int p(x\\mid y) x dx \\\\\n",
    "    &= \\begin{cases}\\int_0^1 xdx & \\text{if } 0<y<1 \\\\ \\int_{-1}^0 xdx & \\text{if } -1<y<0\\end{cases} \\\\\n",
    "    &= \\begin{cases}\\frac{1}{2} & \\text{if } 0<y<1 \\\\ -\\frac{1}{2} & \\text{if } -1<y<0\\end{cases} \\\\\n",
    "\\end{align*}\n",
    "\n",
    "### g)\n",
    "\\begin{align*}\n",
    "    E(X^2) &= \\int_{-1}^0 \\frac{1}{2}x^2 dx + \\int_{0}^1 \\frac{1}{2}x^2 dx = \\frac{1}{3} \\\\\n",
    "    Var(X) &= E(X^2) - E(X)^2 = \\frac{2}{6}\n",
    "\\end{align*}\n",
    "### h)\n",
    "\\begin{align*}\n",
    "    Cov(X,Y) &= E(XY) - E(X)E(Y) = E(XY) \\\\\n",
    "    &= \\iint p(x,y)xy\\;dxdy \\\\\n",
    "    &= \\int_{-1}^1 \\left( \\int_{-1}^0 p(x,y)xy\\;dx + \\int_{0}^1 p(x,y)xy\\;dx\\right)dy \\\\\n",
    "    &= \\int_{-1}^0 \\int_{-1}^0 p(x,y)xy\\;dxdy + \\underbrace{\\int_{0}^1 \\int_{-1}^0 p(x,y)xy\\;dxdy}_{=0} + \n",
    "       \\int_{0}^1 \\int_{0}^1 p(x,y)xy\\;dxdy + \\underbrace{\\int_{-1}^0 \\int_{0}^1 p(x,y)xy\\;dxdy}_{=0} \\\\\n",
    "    &= \\int_{-1}^0 \\int_{-1}^0 \\frac{1}{2}xy\\;dxdy + \\int_{0}^1 \\int_{0}^1 \\frac{1}{2}xy\\;dxdy  \\\\\n",
    "    &= \\int_{-1}^0 \\frac{1}{2}x^2\\;dx + \\int_{0}^1 \\frac{1}{2}x^2\\;dx  \\\\\n",
    "    &= \\frac{1}{3}\n",
    "\\end{align*}\n",
    "### i)\n",
    "\\begin{align*}\n",
    "    Z &= e^{-X} \\\\\n",
    "    p(Z) &= \\begin{cases}\\frac{1}{2} & \\text{if } 0<x<1 \\\\ -\\frac{1}{2} & \\text{if } -1<x<0\\\\ 0& \\text{else}\\end{cases} \\\\\n",
    "    &= \\begin{cases}\\frac{1}{2} & \\text{if } 1>z> \\frac{1}{e} \\\\ -\\frac{1}{2} & \\text{if } e>z>1\\\\ 0& \\text{else}\\end{cases} \\\\\n",
    "\\end{align*}"
   ]
  },
  {
   "cell_type": "markdown",
   "metadata": {},
   "source": [
    "## Theory\n",
    "\n",
    "\n",
    "\\begin{align*}\n",
    "    p(t) &= \\mathcal{N}(t\\mid 10,3^2) \\\\\n",
    "    p(t_A \\mid t) &= \\mathcal{N}(t_A\\mid t,1) \\\\\n",
    "    p(t_B \\mid t) &= \\mathcal{N}(t_B\\mid 2t+3,2^2) \\\\\n",
    "    p(t \\mid t_A, t_B) &= \\mathcal{N}(t_B\\mid m,s^2) \\\\\n",
    "    \\text{with} \\\\\n",
    "    \\frac{1}{s^2} &= \\frac{1}{3^2} + \\frac{1}{1} + \\frac{1}{2^2} \\\\\n",
    "    &= \\frac{49}{36} \\\\\n",
    "    s^2 &= \\frac{36}{49} = \\left(\\frac{6}{7}\\right)^2 \\\\\n",
    "    m \n",
    "    &= \\left(\\frac{1}{3^2}\\cdot10 + \\frac{1}{1}\\cdot10 + \\frac{1}{2^2}\\cdot18\\right)\\cdot \\frac{36}{49} \\\\\n",
    "    &= \\left(\\frac{10}{9} + \\frac{10}{1} + \\frac{18}{4}\\right)\\cdot \\frac{36}{49} \\\\\n",
    "    &= \\left(\\frac{40}{36} + \\frac{360}{36} + \\frac{162}{36}\\right)\\cdot \\frac{36}{49} \\\\\n",
    "    &= \\frac{562}{36}\\cdot \\frac{36}{49} \\\\\n",
    "    &= \\frac{562}{49} \\approx 11.46 \\\\\n",
    "    \\implies \\\\\n",
    "    p(t \\mid t_A, t_B) &= \\mathcal{N}\\left(t\\;\\middle|\\; 11.46,\\left(\\frac{6}{7}\\right)^2\\right)\n",
    "\\end{align*}"
   ]
  },
  {
   "cell_type": "markdown",
   "metadata": {},
   "source": [
    "## Deep Learning on the *Keeling curve*\n",
    "\n",
    "**Adapted from Prof. Dr. Philipp Hennig, Emilia Magnani & Lukas Tatzel.**\n",
    "\n",
    "In previous lecture courses you have become accustomed with various models of *Deep Learning*. In popular texts it can sometimes sound as if deep learning has made all other concepts of machine learning obsolete. The point of this exercise is to reflect on this sentiment. \n",
    "\n",
    "You will work with the famous [Keeling curve](https://www.esrl.noaa.gov/gmd/ccgg/trends/), a time series of atmospheric CO2 concentrations collected at the Mauna Loa observatory in Hawaii. Your task is to produce an extrapolation of this dataset from today 40 years into the future, using a deep learning framework. This notebook will download the data and train a basic neural network using [pytorch](https://pytorch.org/). "
   ]
  },
  {
   "cell_type": "code",
   "execution_count": 2,
   "metadata": {},
   "outputs": [],
   "source": [
    "from matplotlib import pyplot as plt\n",
    "%matplotlib inline\n",
    "\n",
    "import pandas as pd\n",
    "import torch\n",
    "import torch.nn as nn"
   ]
  },
  {
   "cell_type": "markdown",
   "metadata": {},
   "source": [
    "### 1) Load Data\n",
    "\n",
    "As a first step, let's load the CO2 data into a pandas dataframe."
   ]
  },
  {
   "cell_type": "code",
   "execution_count": 3,
   "metadata": {},
   "outputs": [
    {
     "data": {
      "text/html": [
       "<div>\n",
       "<style scoped>\n",
       "    .dataframe tbody tr th:only-of-type {\n",
       "        vertical-align: middle;\n",
       "    }\n",
       "\n",
       "    .dataframe tbody tr th {\n",
       "        vertical-align: top;\n",
       "    }\n",
       "\n",
       "    .dataframe thead th {\n",
       "        text-align: right;\n",
       "    }\n",
       "</style>\n",
       "<table border=\"1\" class=\"dataframe\">\n",
       "  <thead>\n",
       "    <tr style=\"text-align: right;\">\n",
       "      <th></th>\n",
       "      <th>Year</th>\n",
       "      <th>Month</th>\n",
       "      <th>DecimalDate</th>\n",
       "      <th>CO2_av</th>\n",
       "    </tr>\n",
       "  </thead>\n",
       "  <tbody>\n",
       "    <tr>\n",
       "      <th>0</th>\n",
       "      <td>1958</td>\n",
       "      <td>3</td>\n",
       "      <td>1958.2027</td>\n",
       "      <td>315.70</td>\n",
       "    </tr>\n",
       "    <tr>\n",
       "      <th>1</th>\n",
       "      <td>1958</td>\n",
       "      <td>4</td>\n",
       "      <td>1958.2877</td>\n",
       "      <td>317.45</td>\n",
       "    </tr>\n",
       "    <tr>\n",
       "      <th>2</th>\n",
       "      <td>1958</td>\n",
       "      <td>5</td>\n",
       "      <td>1958.3699</td>\n",
       "      <td>317.51</td>\n",
       "    </tr>\n",
       "    <tr>\n",
       "      <th>3</th>\n",
       "      <td>1958</td>\n",
       "      <td>6</td>\n",
       "      <td>1958.4548</td>\n",
       "      <td>317.24</td>\n",
       "    </tr>\n",
       "    <tr>\n",
       "      <th>4</th>\n",
       "      <td>1958</td>\n",
       "      <td>7</td>\n",
       "      <td>1958.5370</td>\n",
       "      <td>315.86</td>\n",
       "    </tr>\n",
       "    <tr>\n",
       "      <th>...</th>\n",
       "      <td>...</td>\n",
       "      <td>...</td>\n",
       "      <td>...</td>\n",
       "      <td>...</td>\n",
       "    </tr>\n",
       "    <tr>\n",
       "      <th>764</th>\n",
       "      <td>2021</td>\n",
       "      <td>11</td>\n",
       "      <td>2021.8750</td>\n",
       "      <td>415.01</td>\n",
       "    </tr>\n",
       "    <tr>\n",
       "      <th>765</th>\n",
       "      <td>2021</td>\n",
       "      <td>12</td>\n",
       "      <td>2021.9583</td>\n",
       "      <td>416.71</td>\n",
       "    </tr>\n",
       "    <tr>\n",
       "      <th>766</th>\n",
       "      <td>2022</td>\n",
       "      <td>1</td>\n",
       "      <td>2022.0417</td>\n",
       "      <td>418.19</td>\n",
       "    </tr>\n",
       "    <tr>\n",
       "      <th>767</th>\n",
       "      <td>2022</td>\n",
       "      <td>2</td>\n",
       "      <td>2022.1250</td>\n",
       "      <td>419.28</td>\n",
       "    </tr>\n",
       "    <tr>\n",
       "      <th>768</th>\n",
       "      <td>2022</td>\n",
       "      <td>3</td>\n",
       "      <td>2022.2083</td>\n",
       "      <td>418.81</td>\n",
       "    </tr>\n",
       "  </tbody>\n",
       "</table>\n",
       "<p>769 rows × 4 columns</p>\n",
       "</div>"
      ],
      "text/plain": [
       "     Year  Month  DecimalDate  CO2_av\n",
       "0    1958      3    1958.2027  315.70\n",
       "1    1958      4    1958.2877  317.45\n",
       "2    1958      5    1958.3699  317.51\n",
       "3    1958      6    1958.4548  317.24\n",
       "4    1958      7    1958.5370  315.86\n",
       "..    ...    ...          ...     ...\n",
       "764  2021     11    2021.8750  415.01\n",
       "765  2021     12    2021.9583  416.71\n",
       "766  2022      1    2022.0417  418.19\n",
       "767  2022      2    2022.1250  419.28\n",
       "768  2022      3    2022.2083  418.81\n",
       "\n",
       "[769 rows x 4 columns]"
      ]
     },
     "metadata": {},
     "output_type": "display_data"
    }
   ],
   "source": [
    "# URL for monthly mean data\n",
    "url = 'ftp://aftp.cmdl.noaa.gov/products/trends/co2/co2_mm_mlo.txt'\n",
    "\n",
    "# Read CSV data from url\n",
    "data = pd.read_csv(url, \n",
    "                   delim_whitespace=True, \n",
    "                   header=52,\n",
    "                   usecols=[0, 1, 2, 3],\n",
    "                   names=['Year', 'Month', 'DecimalDate', 'CO2_av'])\n",
    "display(data)"
   ]
  },
  {
   "cell_type": "markdown",
   "metadata": {},
   "source": [
    "### 2) Split Data\n",
    "\n",
    "Now, we split the data into training and test data."
   ]
  },
  {
   "cell_type": "code",
   "execution_count": 4,
   "metadata": {},
   "outputs": [],
   "source": [
    "# Convert to pytorch column \"vectors\"\n",
    "X = torch.FloatTensor(data['DecimalDate'].values).reshape(-1, 1)\n",
    "Y = torch.FloatTensor(data['CO2_av']).reshape(-1, 1)\n",
    "\n",
    "# Use the last TEST_LENGTH months for testing, the rest for training\n",
    "TEST_LENGTH = 3 * 12\n",
    "\n",
    "# Training data\n",
    "X_train = X[:-TEST_LENGTH]\n",
    "Y_train = Y[:-TEST_LENGTH]\n",
    "\n",
    "# Test data\n",
    "X_test  = X[-TEST_LENGTH:]\n",
    "Y_test  = Y[-TEST_LENGTH:]\n",
    "\n",
    "# Data for prediction\n",
    "PRED_LENGTH = 40 * 12\n",
    "X_pred = (X[-1] + torch.arange(1, PRED_LENGTH + 1) / 12.0).reshape(-1, 1)"
   ]
  },
  {
   "cell_type": "markdown",
   "metadata": {},
   "source": [
    "### 3) Preprocess Data\n",
    "\n",
    "Let's normalize our data. "
   ]
  },
  {
   "cell_type": "code",
   "execution_count": 5,
   "metadata": {},
   "outputs": [],
   "source": [
    "def apply_transform(data_list, shift, scale):\n",
    "    \"\"\"Return list of normalized data\"\"\"\n",
    "    \n",
    "    return [(data - shift) / scale for data in data_list]\n",
    "\n",
    "\n",
    "# Normalize X data\n",
    "X_shift = X_train.mean()\n",
    "X_scale = X_train.std()\n",
    "X_norm  = apply_transform([X_train, X_test, X_pred], \n",
    "                          shift=X_shift, scale=X_scale)\n",
    "[X_train_norm, X_test_norm, X_pred_norm] = X_norm\n",
    "\n",
    "# Normalize Y data\n",
    "Y_shift = Y_train.mean()\n",
    "Y_scale = Y_train.std()\n",
    "Y_norm  = apply_transform([Y_train, Y_test], \n",
    "                          shift=Y_shift, scale=Y_scale)\n",
    "[Y_train_norm, Y_test_norm] = Y_norm"
   ]
  },
  {
   "cell_type": "code",
   "execution_count": 6,
   "metadata": {},
   "outputs": [],
   "source": [
    "col_train = '#327bb3' # blue\n",
    "col_test  = '#b04f4f' # red\n",
    "col_pred  = '#4fb062' # green"
   ]
  },
  {
   "cell_type": "code",
   "execution_count": 7,
   "metadata": {
    "scrolled": true
   },
   "outputs": [
    {
     "data": {
      "image/png": "[encoded data removed]",
      "text/plain": [
       "<Figure size 864x288 with 2 Axes>"
      ]
     },
     "metadata": {
      "needs_background": "light"
     },
     "output_type": "display_data"
    }
   ],
   "source": [
    "# Visualization\n",
    "fig, axs = plt.subplots(1, 2, figsize=(12, 4))\n",
    "\n",
    "# Subplot 1: Original data\n",
    "ax = axs[0]\n",
    "ax.plot(X_train, Y_train, \n",
    "        color=col_train, label='Training Data')\n",
    "ax.plot(X_test,  Y_test,  \n",
    "        color=col_test, label='Test Data')\n",
    "ax.set_xlabel('year')\n",
    "ax.set_ylabel('Monthly average CO2 concentration (in ppm)')\n",
    "ax.set_title('Original Data')\n",
    "ax.grid()\n",
    "ax.legend()\n",
    "\n",
    "# Subplot 2: Normalized data\n",
    "ax = axs[1]\n",
    "ax.plot(X_train_norm, Y_train_norm, \n",
    "        color=col_train, label='Normalized Training Data')\n",
    "ax.plot(X_test_norm,  Y_test_norm,  \n",
    "        color=col_test,  label='Normalized Test Data')\n",
    "ax.set_xlabel('X')\n",
    "ax.set_ylabel('Y')\n",
    "ax.set_title('Normalized Data')\n",
    "ax.grid()\n",
    "ax.legend()\n",
    "\n",
    "plt.show()"
   ]
  },
  {
   "cell_type": "markdown",
   "metadata": {},
   "source": [
    "### 4) Train the Neural Network\n",
    "\n",
    "Define the model architecture, the loss function and the optimizer. Use the normalized data to train the neural network for a given number of epochs."
   ]
  },
  {
   "cell_type": "code",
   "execution_count": null,
   "metadata": {},
   "outputs": [],
   "source": [
    "# Set seed value for reproducibility\n",
    "torch.manual_seed(0)\n",
    "\n",
    "# Compute on GPU, if available\n",
    "DEVICE = torch.device(\"cuda:0\" if torch.cuda.is_available() else \"cpu\")\n",
    "\n",
    "# Choose neural network architecture\n",
    "model = nn.Sequential(\n",
    "    nn.Linear(1, 100),\n",
    "    nn.ReLU(),\n",
    "    nn.Linear(100, 1)\n",
    ").to(DEVICE)\n",
    "print(f'Network nof_parameters = {sum(p.numel() for p in model.parameters())}\\n')\n",
    "\n",
    "# Choose loss function (suitable for regression tasks)\n",
    "loss_func = torch.nn.MSELoss()\n",
    "\n",
    "# Choose optimizer and hyperparameters\n",
    "optimizer = torch.optim.Adam(model.parameters())\n",
    "\n",
    "# Train for NOF_EPOCHS epochs\n",
    "NOF_EPOCHS = 500\n",
    "\n",
    "print('Training Progress...')\n",
    "for epoch in range(NOF_EPOCHS):\n",
    "    \n",
    "    model.train()\n",
    "    \n",
    "    # Forward pass\n",
    "    inputs, labels = X_train_norm.to(DEVICE), Y_train_norm.to(DEVICE)\n",
    "    outputs = model(inputs)\n",
    "    train_loss = loss_func(outputs, labels)\n",
    "    \n",
    "    # Zero the parameter gradients, backward pass, optimize\n",
    "    optimizer.zero_grad()\n",
    "    train_loss.backward()\n",
    "    optimizer.step()\n",
    "    \n",
    "    # Print progress\n",
    "    if epoch % (NOF_EPOCHS / 10) == 0:\n",
    "        \n",
    "        model.eval()\n",
    "        \n",
    "        with torch.no_grad():\n",
    "            \n",
    "            # Forward pass on test data\n",
    "            inputs, labels = X_test_norm.to(DEVICE), Y_test_norm.to(DEVICE)\n",
    "            outputs   = model(inputs)\n",
    "            test_loss = loss_func(outputs, labels)\n",
    "            \n",
    "            print(  f'Epoch {epoch:4};    '\n",
    "                  + f'Training Loss: {train_loss.item():.3f};    '\n",
    "                  + f'Test Loss: {test_loss.item():.3f}')\n",
    "        "
   ]
  },
  {
   "cell_type": "markdown",
   "metadata": {},
   "source": [
    "### 5) Evaluate Trained Model\n",
    "\n",
    "Let's explore the model extraplolation."
   ]
  },
  {
   "cell_type": "code",
   "execution_count": 8,
   "metadata": {},
   "outputs": [],
   "source": [
    "# Evaluate trained model\n",
    "model.eval()\n",
    "model.to('cpu')\n",
    "with torch.no_grad():\n",
    "    Y_train_predict = model(X_train_norm) * Y_scale + Y_shift\n",
    "    Y_test_predict  = model(X_test_norm)  * Y_scale + Y_shift\n",
    "    Y_pred_predict  = model(X_pred_norm)  * Y_scale + Y_shift"
   ]
  },
  {
   "cell_type": "code",
   "execution_count": 9,
   "metadata": {
    "scrolled": false
   },
   "outputs": [
    {
     "data": {
      "image/png": "[encoded data removed]",
      "text/plain": [
       "<Figure size 720x576 with 1 Axes>"
      ]
     },
     "metadata": {
      "needs_background": "light"
     },
     "output_type": "display_data"
    }
   ],
   "source": [
    "# Visualization \n",
    "fig, ax = plt.subplots(1, 1, figsize=(10, 8))\n",
    "\n",
    "# Training data\n",
    "ax.plot(X_train, Y_train, \n",
    "        color=col_train, label='Training Data', alpha=0.5)\n",
    "ax.plot(X_train, Y_train_predict, \n",
    "        color=col_train, label='Prediction for Training Data')\n",
    "\n",
    "# Test data\n",
    "ax.plot(X_test,  Y_test,  \n",
    "        color=col_test, label='Test Data', alpha=0.5)\n",
    "ax.plot(X_test, Y_test_predict,\n",
    "        color=col_test, label='Prediction for Test Data')\n",
    "\n",
    "# Pred data\n",
    "ax.plot(X_pred, Y_pred_predict, \n",
    "       color=col_pred, label='Prediction for unknown Data')\n",
    "\n",
    "# General plot settings\n",
    "ax.set_xlabel('year')\n",
    "ax.set_ylabel('Monthly average CO2 concentration (in ppm)')\n",
    "ax.set_title('Model Prediction')\n",
    "ax.grid()\n",
    "ax.legend()\n",
    "plt.show()"
   ]
  },
  {
   "cell_type": "markdown",
   "metadata": {},
   "source": [
    "### Your Tasks\n",
    "\n",
    "First, provide answers to the following two questions. \n",
    "\n",
    "**(1) Are you happy with the extrapolation? Why/why not?** \n",
    "\n",
    "**Answer:** \n",
    "\n",
    "---\n",
    "\n",
    "**(2) Do you trust the extrapolation? Why/why not?** \n",
    "\n",
    "**Answer:** \n",
    "\n",
    "---\n",
    "\n",
    "**Task**: Your task is to come up with your own solution using a deep learning framework of your choice. First, develop an alternative concept to compute the extrapolation. Write down your idea and briefly describe why and in what way your approach is expected to be an improvement compared to the extrapolation above. A few lines of text should be enough. Note however, that e.g. just adding layers and changing the optimizer won't be regarded as \"sufficient\". We want to see that you really put some thought into your concept. \n",
    "\n",
    "**Your concept:** \n",
    "\n",
    "---\n",
    "\n",
    "**Task**: Actually implement your idea. You can use the above code as a template. Of course, you are free to re-organize the data, modify the network architecture, the optimizer, loss function etc. You can also use a different framework than pytorch, if you want."
   ]
  },
  {
   "cell_type": "code",
   "execution_count": null,
   "metadata": {},
   "outputs": [],
   "source": []
  }
 ],
 "metadata": {
  "kernelspec": {
   "display_name": "Python 3",
   "language": "python",
   "name": "python3"
  },
  "language_info": {
   "codemirror_mode": {
    "name": "ipython",
    "version": 3
   },
   "file_extension": ".py",
   "mimetype": "text/x-python",
   "name": "python",
   "nbconvert_exporter": "python",
   "pygments_lexer": "ipython3",
   "version": "3.8.8"
  }
 },
 "nbformat": 4,
 "nbformat_minor": 4
}

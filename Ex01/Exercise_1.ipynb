{
 "cells": [
  {
   "cell_type": "markdown",
   "metadata": {},
   "source": [
    "# Probabilistic Machine Learning {-}\n",
    "#### Machine Learning in Science, University of Tübingen, Summer Semester 2022"
   ]
  },
  {
   "cell_type": "markdown",
   "metadata": {},
   "source": [
    "# EXAMple\n",
    "## a {-}\n",
    "For any two events $A, B \\in \\Omega$\n",
    "\\begin{align*}\n",
    "    P(A\\mid B) &= \\frac{P(A,B)}{P(B)} \\\\\\\\\n",
    "    P(A,B) \\geq 0; P(B) \\geq 0 &\\implies \\frac{P(A,B)}{P(B)} \\geq 0 \\tag{1} \\\\\\\\\n",
    "    P(\\Omega \\mid B) &= \\frac{P(\\Omega,B)}{P(B)} \\\\\n",
    "    &= \\frac{1\\cdot P(B)}{P(B)}\\tag{2} \\\\\n",
    "    &= 1 \\\\\\\\\n",
    "\\end{align*}\n",
    "Let $A_1, A_2, A_3, \\dots \\in \\Omega$ be disjoint:\n",
    "\\begin{align*}\n",
    "    P(A_1, A_2, A_3, \\dots\\mid B) &= \\frac{ P(A_1, A_2, A_3, \\dots)}{P(B)} \\\\\n",
    "    &= \\frac{ P(A_1)+P( A_2)+P( A_3) + \\dots}{P(B)} \\tag{3}\\\\\n",
    "    &= \\frac{ P(A_1)}{P(B)}+\\frac{P( A_2)}{P(B)}+\\frac{P( A_3)}{P(B)} + \\dots \\\\\n",
    "    &= P(A_1\\mid B) + P(A_2\\mid B) + P(A_3\\mid B) + \\dots\n",
    "\\end{align*}\n",
    "\n",
    "## b {-}\n",
    "### i {-}\n",
    "Yes!  \n",
    "$P(H_1, H_2 \\mid B) = P(H_1 \\mid B) \\cdot P(H_2 \\mid B) = 0.01 \\cdot 0.01$\n",
    "\n",
    "### ii {-}\n",
    "No!  \n",
    "$P(H_1, H_2) \\neq P(H_1) \\cdot P(H_2)$\n",
    "\n",
    "## c {-}\n",
    "Let $W_i$ be the event of winning in the $i$th \\\"round\\\"\n",
    "\n",
    "### i {-}\n",
    "$$P(W_1) = \\frac{2}{3}$$\n",
    "\n",
    "### ii {-}\n",
    "$$P(W_2 \\mid W_1) = \\frac{1}{2} $$\n",
    "\n",
    "### iii {-}\n",
    "$$P(W_2 \\mid \\lnot W_1) = 1 $$\n",
    "\n",
    "### iv {-}\n",
    "\\begin{align*}\n",
    "P(W_2) &= P(W_1)\\cdot P(W_2 \\mid W_1) + P(\\lnot W_1)\\cdot P(W_2 \\mid \\lnot W_1) \\\\\n",
    "&= \\frac{2}{3} \\cdot \\frac{1}{2} + \\frac{1}{3} \\cdot 1 \\\\\n",
    "&= \\frac{2}{3} \n",
    "= P(W_1)\n",
    "\\end{align*}\n",
    "It doesnt have any impact on my winning chances\n",
    "\n",
    "### v {-}\n",
    "\n",
    "\\begin{align*}\n",
    "    P(W_1 \\mid W_2) &= \\frac{P(W_2 \\mid W_1)P(W_1)}{P(W_2)} \\\\\n",
    "    &= \\frac{\\frac{1}{2}\\cdot\\frac{2}{3}}{\\frac{2}{3}} \\\\\n",
    "    &= \\frac{1}{2}\n",
    "\\end{align*}"
   ]
  },
  {
   "cell_type": "markdown",
   "metadata": {},
   "source": [
    "# Theory\n",
    "\n",
    "$$ P(A) = \\frac{|A|}{p} $$\n",
    "$$ P(A, B) = \\frac{|A\\cap B|}{p}$$\n",
    "Assume $A$ and $B$ are independent, then\n",
    "\\begin{align*}\n",
    "    P(A,B) &= P(A) \\cdot P(B) \\\\\n",
    "    &= \\frac{|A|}{p} \\cdot \\frac{|B|}{p}\\\\\n",
    "\\end{align*}  \n",
    "\n",
    "\\begin{align*}\n",
    "    \\implies \\frac{|A|}{p} \\cdot \\frac{|B|}{p} &= \\frac{|A\\cap B|}{p} \\\\\n",
    "    |A\\cap B| \\cdot p &= |A| \\cdot |B|\n",
    "\\end{align*}\n",
    "\n",
    "Because $p$ is a prime, this can only be true when:  \n",
    "1. $|A\\cap B| = 0 \\implies |A|=0 \\text{ or } |B|=0 \\implies A=\\emptyset \\text{ or } B=\\emptyset$  \n",
    "2. $|A|=p \\text{ or } |B|=p \\implies A=\\Omega \\text{ or } B=\\Omega$"
   ]
  },
  {
   "cell_type": "markdown",
   "metadata": {},
   "source": [
    "# Practical Question\n",
    "## Exercise 01 {-}\n",
    "\n",
    "**hand in before 29.04.2022, 12:00 p.m. (noon)**\n",
    "\n",
    "---\n",
    "\n",
    "In the lecture, we calculated the probability of someone having COVID given a positive COVID test. In this exercise, we ask you to code up a method that performs this calculation, given the sensitivity and specificity of a COVID test, depending on the prevalence of COVID."
   ]
  },
  {
   "cell_type": "markdown",
   "metadata": {},
   "source": [
    "### 1) COVID Prevalence {-}\n",
    "The 7 Day Incidence Rate per 100,000 people in Germany (as of 19.04.2022) is 698.9. How would you convert this number into the probability of someone having COVID in Germany? (Hint: Ignore the length of time for which people remain sick, and simply assume that the incidence rate represents the total number of people with COVID per 100,000 people on a given day)\n"
   ]
  },
  {
   "cell_type": "code",
   "execution_count": 1,
   "metadata": {},
   "outputs": [
    {
     "data": {
      "text/plain": [
       "0.0069889999999999996"
      ]
     },
     "execution_count": 1,
     "metadata": {},
     "output_type": "execute_result"
    }
   ],
   "source": [
    "inc = 698.9\n",
    "\n",
    "prevalence = inc / 1e5\n",
    "prevalence"
   ]
  },
  {
   "cell_type": "markdown",
   "metadata": {},
   "source": [
    "### 2) Sensitivity and Specificity {-}\n",
    "Several ``Schnell-tests'' are available on the market for COVID self-testing. Their diagnosic accuracy is measured by their sensitivity and specificity. \n",
    "1. How are the sensitivity and specificity of a test defined?\n",
    "2. How would you compute the probabilities of a false positive test and a false negative test, given its sensitivity and specificity?"
   ]
  },
  {
   "cell_type": "markdown",
   "metadata": {},
   "source": [
    "**Answer 2)**\n",
    "1. \n",
    "sensitivity is the probability of a true positive: $P(\\text{'test: covid'} \\mid \\text{'covid'})$  \n",
    "specificity is the probability of a true negative: $P(\\text{'test: no covid'} \\mid \\text{'no covid'})$\n",
    "\n",
    "2.  \n",
    "false pos:\n",
    "$P(\\text{'test: covid'} \\mid \\text{'no covid'}) = 1 - P(\\text{'test: no covid'} \\mid \\text{'no covid'}) = 1 - \\text{specificity}$  \n",
    "false neg:\n",
    "$P(\\text{'test: no covid'} \\mid \\text{' covid'}) = 1 - P(\\text{'test: covid'} \\mid \\text{'covid'}) = 1 - \\text{sensitivity}$"
   ]
  },
  {
   "cell_type": "markdown",
   "metadata": {},
   "source": [
    "### 3) Probability of Infection {-}\n",
    "\n",
    "\n",
    "1. Which probabilities would you need to compute the probability of an infection given a positive test?\n",
    "2. Which mathematical theorem would you use to compute this quantity?\n"
   ]
  },
  {
   "cell_type": "markdown",
   "metadata": {},
   "source": [
    "**Answer 3)**\n",
    "1. \n",
    " - Probability of infection (without test)\n",
    " - Sensitivity\n",
    " - Specificity\n",
    "\n",
    "2.  \n",
    "Bayes' Theorem"
   ]
  },
  {
   "cell_type": "markdown",
   "metadata": {},
   "source": [
    "### 4) Function definition {-}\n",
    "\n",
    "Write a function that returns the probability of having COVID given a positive test. The function should take as inputs the sensitivity and specificity of a test, and the COVID prevalence."
   ]
  },
  {
   "cell_type": "code",
   "execution_count": 2,
   "metadata": {},
   "outputs": [],
   "source": [
    "# Your code here\n",
    "def covid_prob(sens, spec, prev = 698.9 / 1e5):\n",
    "    p_positive = sens * prev + (1-spec) * (1-prev)\n",
    "    return sens * prev * 1/p_positive\n",
    "\n",
    "    "
   ]
  },
  {
   "cell_type": "markdown",
   "metadata": {},
   "source": [
    "### 5) Test your code {-}\n",
    "Using the function you wrote above, compute the probability of having COVID, given a positive COVID test with sensitivity = 0.9652 and specificity = 0.9968 for prevalence:\n",
    "1. 0.016319 (Korea, South)\n",
    "2. 0.006989 (Germany)\n",
    "3. 0.000613 (Norway)\n",
    "\n",
    "(Prevalence based on https://oscovida.github.io/countries-incidence-rate.html, date of access: 19.04.22)"
   ]
  },
  {
   "cell_type": "code",
   "execution_count": 3,
   "metadata": {},
   "outputs": [
    {
     "name": "stdout",
     "output_type": "stream",
     "text": [
      "In South Korea the Probability of having covid after a positive test is 83.34%\n",
      "In Germany the Probability of having covid after a positive test is 67.98%\n",
      "In Norway the Probability of having covid after a positive test is 15.61%\n"
     ]
    }
   ],
   "source": [
    "sens = 0.9652\n",
    "spec = 0.9968\n",
    "\n",
    "countries = ['South Korea', 'Germany', 'Norway']\n",
    "prevs = [0.016319, 0.006989, 0.000613]\n",
    "\n",
    "for country, prev in zip(countries, prevs):\n",
    "    print(f'In {country} the Probability of having covid after a positive test is {round(covid_prob(sens, spec, prev)*100, 2)}%')"
   ]
  },
  {
   "cell_type": "markdown",
   "metadata": {},
   "source": [
    "### 6) Plot of infection probability {-}\n",
    "\n",
    "Plot how the probability of infection given a positive COVID test changes, depending on COVID prevalence.  "
   ]
  },
  {
   "cell_type": "code",
   "execution_count": 4,
   "metadata": {},
   "outputs": [
    {
     "data": {
      "image/png": "[encoded data removed]",
      "text/plain": [
       "<Figure size 432x288 with 1 Axes>"
      ]
     },
     "metadata": {
      "needs_background": "light"
     },
     "output_type": "display_data"
    }
   ],
   "source": [
    "import numpy as np\n",
    "from matplotlib import pyplot as plt\n",
    "prev_space = np.linspace(0,1, 100)\n",
    "p_infection = covid_prob(sens, spec, prev_space)\n",
    "\n",
    "plt.plot(prev_space, p_infection)\n",
    "plt.show()"
   ]
  }
 ],
 "metadata": {
  "kernelspec": {
   "display_name": "Python 3 (ipykernel)",
   "language": "python",
   "name": "python3"
  },
  "language_info": {
   "codemirror_mode": {
    "name": "ipython",
    "version": 3
   },
   "file_extension": ".py",
   "mimetype": "text/x-python",
   "name": "python",
   "nbconvert_exporter": "python",
   "pygments_lexer": "ipython3",
   "version": "3.9.7"
  }
 },
 "nbformat": 4,
 "nbformat_minor": 4
}
